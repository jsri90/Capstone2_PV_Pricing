{
 "cells": [
  {
   "cell_type": "markdown",
   "metadata": {},
   "source": [
    "This phase of capstone 2 kicks-off from the the previous phase of Capstone 2 EDA. Hence the csv file exported at the end of the EDA stage is re-imported here for feature engineering, data cleaning and training data development."
   ]
  },
  {
   "cell_type": "markdown",
   "metadata": {},
   "source": [
    "Objective\n",
    " - Data Preprocessing\n",
    " - one hot encode or create dummy variables\n",
    " - Standardize\n",
    " - train test split\n",
    " - Build and evaluate the follwing type of models\n",
    "  - LinearRegression\n",
    "  - sm.OLS\n",
    " "
   ]
  },
  {
   "cell_type": "code",
   "execution_count": 1,
   "metadata": {},
   "outputs": [],
   "source": [
    "# loading necessary modules\n",
    "import pandas as pd\n",
    "import numpy as np\n",
    "import seaborn as sns\n",
    "import matplotlib.pyplot as plt\n",
    "\n",
    "from sklearn.model_selection import train_test_split\n"
   ]
  },
  {
   "cell_type": "code",
   "execution_count": 2,
   "metadata": {},
   "outputs": [
    {
     "data": {
      "text/html": [
       "<div>\n",
       "<style scoped>\n",
       "    .dataframe tbody tr th:only-of-type {\n",
       "        vertical-align: middle;\n",
       "    }\n",
       "\n",
       "    .dataframe tbody tr th {\n",
       "        vertical-align: top;\n",
       "    }\n",
       "\n",
       "    .dataframe thead th {\n",
       "        text-align: right;\n",
       "    }\n",
       "</style>\n",
       "<table border=\"1\" class=\"dataframe\">\n",
       "  <thead>\n",
       "    <tr style=\"text-align: right;\">\n",
       "      <th></th>\n",
       "      <th>installation_date</th>\n",
       "      <th>Year</th>\n",
       "      <th>system_size_DC</th>\n",
       "      <th>new_construction</th>\n",
       "      <th>ground_mounted</th>\n",
       "      <th>state</th>\n",
       "      <th>installer_name</th>\n",
       "      <th>DC_optimizer</th>\n",
       "      <th>dollar_per_watt</th>\n",
       "      <th>Overall_Module_efficiency</th>\n",
       "      <th>micro_inverter</th>\n",
       "      <th>installer_experience</th>\n",
       "      <th>Premium_Module</th>\n",
       "    </tr>\n",
       "  </thead>\n",
       "  <tbody>\n",
       "    <tr>\n",
       "      <th>0</th>\n",
       "      <td>2018-01-01</td>\n",
       "      <td>2018</td>\n",
       "      <td>10.3700</td>\n",
       "      <td>0.0</td>\n",
       "      <td>0.0</td>\n",
       "      <td>CA</td>\n",
       "      <td>Sunworks United</td>\n",
       "      <td>1.0</td>\n",
       "      <td>3.905497</td>\n",
       "      <td>18.711656</td>\n",
       "      <td>0</td>\n",
       "      <td>1</td>\n",
       "      <td>0</td>\n",
       "    </tr>\n",
       "    <tr>\n",
       "      <th>1</th>\n",
       "      <td>2018-01-01</td>\n",
       "      <td>2018</td>\n",
       "      <td>7.4305</td>\n",
       "      <td>0.0</td>\n",
       "      <td>0.0</td>\n",
       "      <td>CA</td>\n",
       "      <td>1st Light Energy</td>\n",
       "      <td>1.0</td>\n",
       "      <td>3.950707</td>\n",
       "      <td>16.512247</td>\n",
       "      <td>0</td>\n",
       "      <td>1</td>\n",
       "      <td>0</td>\n",
       "    </tr>\n",
       "    <tr>\n",
       "      <th>2</th>\n",
       "      <td>2018-01-01</td>\n",
       "      <td>2018</td>\n",
       "      <td>12.6000</td>\n",
       "      <td>0.0</td>\n",
       "      <td>0.0</td>\n",
       "      <td>CA</td>\n",
       "      <td>S E Lnstructionrporation</td>\n",
       "      <td>1.0</td>\n",
       "      <td>4.853175</td>\n",
       "      <td>20.917001</td>\n",
       "      <td>0</td>\n",
       "      <td>1</td>\n",
       "      <td>1</td>\n",
       "    </tr>\n",
       "    <tr>\n",
       "      <th>3</th>\n",
       "      <td>2018-01-01</td>\n",
       "      <td>2018</td>\n",
       "      <td>5.2800</td>\n",
       "      <td>0.0</td>\n",
       "      <td>0.0</td>\n",
       "      <td>CA</td>\n",
       "      <td>Sierra Pacific Home &amp;Mfort</td>\n",
       "      <td>1.0</td>\n",
       "      <td>3.958333</td>\n",
       "      <td>19.710083</td>\n",
       "      <td>0</td>\n",
       "      <td>1</td>\n",
       "      <td>0</td>\n",
       "    </tr>\n",
       "    <tr>\n",
       "      <th>4</th>\n",
       "      <td>2018-01-01</td>\n",
       "      <td>2018</td>\n",
       "      <td>6.8400</td>\n",
       "      <td>0.0</td>\n",
       "      <td>0.0</td>\n",
       "      <td>CA</td>\n",
       "      <td>Syntrol Plumbing Heating &amp; Air</td>\n",
       "      <td>1.0</td>\n",
       "      <td>4.991082</td>\n",
       "      <td>17.447199</td>\n",
       "      <td>0</td>\n",
       "      <td>1</td>\n",
       "      <td>0</td>\n",
       "    </tr>\n",
       "  </tbody>\n",
       "</table>\n",
       "</div>"
      ],
      "text/plain": [
       "  installation_date  Year  system_size_DC  new_construction  ground_mounted  \\\n",
       "0        2018-01-01  2018         10.3700               0.0             0.0   \n",
       "1        2018-01-01  2018          7.4305               0.0             0.0   \n",
       "2        2018-01-01  2018         12.6000               0.0             0.0   \n",
       "3        2018-01-01  2018          5.2800               0.0             0.0   \n",
       "4        2018-01-01  2018          6.8400               0.0             0.0   \n",
       "\n",
       "  state                  installer_name  DC_optimizer  dollar_per_watt  \\\n",
       "0    CA                 Sunworks United           1.0         3.905497   \n",
       "1    CA                1st Light Energy           1.0         3.950707   \n",
       "2    CA        S E Lnstructionrporation           1.0         4.853175   \n",
       "3    CA      Sierra Pacific Home &Mfort           1.0         3.958333   \n",
       "4    CA  Syntrol Plumbing Heating & Air           1.0         4.991082   \n",
       "\n",
       "   Overall_Module_efficiency  micro_inverter  installer_experience  \\\n",
       "0                  18.711656               0                     1   \n",
       "1                  16.512247               0                     1   \n",
       "2                  20.917001               0                     1   \n",
       "3                  19.710083               0                     1   \n",
       "4                  17.447199               0                     1   \n",
       "\n",
       "   Premium_Module  \n",
       "0               0  \n",
       "1               0  \n",
       "2               1  \n",
       "3               0  \n",
       "4               0  "
      ]
     },
     "execution_count": 2,
     "metadata": {},
     "output_type": "execute_result"
    }
   ],
   "source": [
    "pv_df = pd.read_csv('pv_regression.csv', index_col = 0)\n",
    "pv_df.head()"
   ]
  },
  {
   "cell_type": "code",
   "execution_count": 3,
   "metadata": {},
   "outputs": [
    {
     "name": "stdout",
     "output_type": "stream",
     "text": [
      "<class 'pandas.core.frame.DataFrame'>\n",
      "Int64Index: 184778 entries, 0 to 184777\n",
      "Data columns (total 13 columns):\n",
      " #   Column                     Non-Null Count   Dtype  \n",
      "---  ------                     --------------   -----  \n",
      " 0   installation_date          184778 non-null  object \n",
      " 1   Year                       184778 non-null  int64  \n",
      " 2   system_size_DC             184778 non-null  float64\n",
      " 3   new_construction           184778 non-null  float64\n",
      " 4   ground_mounted             184778 non-null  float64\n",
      " 5   state                      184778 non-null  object \n",
      " 6   installer_name             184565 non-null  object \n",
      " 7   DC_optimizer               184778 non-null  float64\n",
      " 8   dollar_per_watt            184778 non-null  float64\n",
      " 9   Overall_Module_efficiency  184778 non-null  float64\n",
      " 10  micro_inverter             184778 non-null  int64  \n",
      " 11  installer_experience       184778 non-null  int64  \n",
      " 12  Premium_Module             184778 non-null  int64  \n",
      "dtypes: float64(6), int64(4), object(3)\n",
      "memory usage: 19.7+ MB\n"
     ]
    }
   ],
   "source": [
    "pv_df.info()"
   ]
  },
  {
   "cell_type": "code",
   "execution_count": 4,
   "metadata": {},
   "outputs": [
    {
     "data": {
      "text/plain": [
       "CA    178722\n",
       "MA      5751\n",
       "NH       189\n",
       "FL       116\n",
       "Name: state, dtype: int64"
      ]
     },
     "execution_count": 4,
     "metadata": {},
     "output_type": "execute_result"
    }
   ],
   "source": [
    "pv_df['state'].value_counts()"
   ]
  },
  {
   "cell_type": "code",
   "execution_count": 5,
   "metadata": {},
   "outputs": [
    {
     "data": {
      "text/plain": [
       "0    123182\n",
       "1     61596\n",
       "Name: Premium_Module, dtype: int64"
      ]
     },
     "execution_count": 5,
     "metadata": {},
     "output_type": "execute_result"
    }
   ],
   "source": [
    "pv_df['Premium_Module'].value_counts()"
   ]
  },
  {
   "cell_type": "code",
   "execution_count": 6,
   "metadata": {},
   "outputs": [
    {
     "data": {
      "text/plain": [
       "Tesla Energy                      17313\n",
       "Sunpower Capital                   9685\n",
       "Sunrun                             9185\n",
       "Semper Solarisnstruction           6240\n",
       "Petersen Dean                      5733\n",
       "                                  ...  \n",
       "Gecko Solar Energy                    1\n",
       "Reuter Dukenstruction Services        1\n",
       "Allright Enterprizes                  1\n",
       "Humboldt Solar                        1\n",
       "Highuntry Builders                    1\n",
       "Name: installer_name, Length: 3034, dtype: int64"
      ]
     },
     "execution_count": 6,
     "metadata": {},
     "output_type": "execute_result"
    }
   ],
   "source": [
    "pv_df['installer_name'].value_counts()"
   ]
  },
  {
   "cell_type": "code",
   "execution_count": 7,
   "metadata": {},
   "outputs": [
    {
     "data": {
      "text/plain": [
       "0.0    95861\n",
       "1.0    88917\n",
       "Name: DC_optimizer, dtype: int64"
      ]
     },
     "execution_count": 7,
     "metadata": {},
     "output_type": "execute_result"
    }
   ],
   "source": [
    "pv_df['DC_optimizer'].value_counts()"
   ]
  },
  {
   "cell_type": "code",
   "execution_count": 8,
   "metadata": {},
   "outputs": [
    {
     "data": {
      "text/plain": [
       "5.120000    9659\n",
       "4.250000    2410\n",
       "4.500000    2025\n",
       "4.500003    1304\n",
       "4.000000    1243\n",
       "            ... \n",
       "6.148318       1\n",
       "2.924262       1\n",
       "2.730492       1\n",
       "4.976327       1\n",
       "3.779986       1\n",
       "Name: dollar_per_watt, Length: 103469, dtype: int64"
      ]
     },
     "execution_count": 8,
     "metadata": {},
     "output_type": "execute_result"
    }
   ],
   "source": [
    "pv_df['dollar_per_watt'].value_counts()"
   ]
  },
  {
   "cell_type": "markdown",
   "metadata": {},
   "source": [
    "A quick recap of the data frame above shows that categoriacal variables are - \n",
    " - Installation_date\n",
    " - State\n",
    " - Installer Name\n",
    " \n",
    " Of the three we will encode the State. The installation date column was mainly used to capture the year of installation and since its actually a date_time type, it can be dropped. \n",
    " \n",
    " Additionally the installation date and Installer name are mainly used to calculate the installer experience and have hence served their purpose."
   ]
  },
  {
   "cell_type": "code",
   "execution_count": 9,
   "metadata": {},
   "outputs": [
    {
     "data": {
      "text/html": [
       "<div>\n",
       "<style scoped>\n",
       "    .dataframe tbody tr th:only-of-type {\n",
       "        vertical-align: middle;\n",
       "    }\n",
       "\n",
       "    .dataframe tbody tr th {\n",
       "        vertical-align: top;\n",
       "    }\n",
       "\n",
       "    .dataframe thead th {\n",
       "        text-align: right;\n",
       "    }\n",
       "</style>\n",
       "<table border=\"1\" class=\"dataframe\">\n",
       "  <thead>\n",
       "    <tr style=\"text-align: right;\">\n",
       "      <th></th>\n",
       "      <th>Year</th>\n",
       "      <th>system_size_DC</th>\n",
       "      <th>new_construction</th>\n",
       "      <th>ground_mounted</th>\n",
       "      <th>state</th>\n",
       "      <th>DC_optimizer</th>\n",
       "      <th>dollar_per_watt</th>\n",
       "      <th>Overall_Module_efficiency</th>\n",
       "      <th>micro_inverter</th>\n",
       "      <th>installer_experience</th>\n",
       "      <th>Premium_Module</th>\n",
       "    </tr>\n",
       "  </thead>\n",
       "  <tbody>\n",
       "    <tr>\n",
       "      <th>0</th>\n",
       "      <td>2018</td>\n",
       "      <td>10.3700</td>\n",
       "      <td>0.0</td>\n",
       "      <td>0.0</td>\n",
       "      <td>CA</td>\n",
       "      <td>1.0</td>\n",
       "      <td>3.905497</td>\n",
       "      <td>18.711656</td>\n",
       "      <td>0</td>\n",
       "      <td>1</td>\n",
       "      <td>0</td>\n",
       "    </tr>\n",
       "    <tr>\n",
       "      <th>1</th>\n",
       "      <td>2018</td>\n",
       "      <td>7.4305</td>\n",
       "      <td>0.0</td>\n",
       "      <td>0.0</td>\n",
       "      <td>CA</td>\n",
       "      <td>1.0</td>\n",
       "      <td>3.950707</td>\n",
       "      <td>16.512247</td>\n",
       "      <td>0</td>\n",
       "      <td>1</td>\n",
       "      <td>0</td>\n",
       "    </tr>\n",
       "    <tr>\n",
       "      <th>2</th>\n",
       "      <td>2018</td>\n",
       "      <td>12.6000</td>\n",
       "      <td>0.0</td>\n",
       "      <td>0.0</td>\n",
       "      <td>CA</td>\n",
       "      <td>1.0</td>\n",
       "      <td>4.853175</td>\n",
       "      <td>20.917001</td>\n",
       "      <td>0</td>\n",
       "      <td>1</td>\n",
       "      <td>1</td>\n",
       "    </tr>\n",
       "    <tr>\n",
       "      <th>3</th>\n",
       "      <td>2018</td>\n",
       "      <td>5.2800</td>\n",
       "      <td>0.0</td>\n",
       "      <td>0.0</td>\n",
       "      <td>CA</td>\n",
       "      <td>1.0</td>\n",
       "      <td>3.958333</td>\n",
       "      <td>19.710083</td>\n",
       "      <td>0</td>\n",
       "      <td>1</td>\n",
       "      <td>0</td>\n",
       "    </tr>\n",
       "    <tr>\n",
       "      <th>4</th>\n",
       "      <td>2018</td>\n",
       "      <td>6.8400</td>\n",
       "      <td>0.0</td>\n",
       "      <td>0.0</td>\n",
       "      <td>CA</td>\n",
       "      <td>1.0</td>\n",
       "      <td>4.991082</td>\n",
       "      <td>17.447199</td>\n",
       "      <td>0</td>\n",
       "      <td>1</td>\n",
       "      <td>0</td>\n",
       "    </tr>\n",
       "  </tbody>\n",
       "</table>\n",
       "</div>"
      ],
      "text/plain": [
       "   Year  system_size_DC  new_construction  ground_mounted state  DC_optimizer  \\\n",
       "0  2018         10.3700               0.0             0.0    CA           1.0   \n",
       "1  2018          7.4305               0.0             0.0    CA           1.0   \n",
       "2  2018         12.6000               0.0             0.0    CA           1.0   \n",
       "3  2018          5.2800               0.0             0.0    CA           1.0   \n",
       "4  2018          6.8400               0.0             0.0    CA           1.0   \n",
       "\n",
       "   dollar_per_watt  Overall_Module_efficiency  micro_inverter  \\\n",
       "0         3.905497                  18.711656               0   \n",
       "1         3.950707                  16.512247               0   \n",
       "2         4.853175                  20.917001               0   \n",
       "3         3.958333                  19.710083               0   \n",
       "4         4.991082                  17.447199               0   \n",
       "\n",
       "   installer_experience  Premium_Module  \n",
       "0                     1               0  \n",
       "1                     1               0  \n",
       "2                     1               1  \n",
       "3                     1               0  \n",
       "4                     1               0  "
      ]
     },
     "execution_count": 9,
     "metadata": {},
     "output_type": "execute_result"
    }
   ],
   "source": [
    "pv_df1 = pv_df.drop(columns = ['installation_date','installer_name'], axis = 1)\n",
    "pv_df1.head()"
   ]
  },
  {
   "cell_type": "code",
   "execution_count": 10,
   "metadata": {},
   "outputs": [
    {
     "name": "stdout",
     "output_type": "stream",
     "text": [
      "<class 'pandas.core.frame.DataFrame'>\n",
      "Int64Index: 184778 entries, 0 to 184777\n",
      "Data columns (total 11 columns):\n",
      " #   Column                     Non-Null Count   Dtype  \n",
      "---  ------                     --------------   -----  \n",
      " 0   Year                       184778 non-null  int64  \n",
      " 1   system_size_DC             184778 non-null  float64\n",
      " 2   new_construction           184778 non-null  float64\n",
      " 3   ground_mounted             184778 non-null  float64\n",
      " 4   state                      184778 non-null  object \n",
      " 5   DC_optimizer               184778 non-null  float64\n",
      " 6   dollar_per_watt            184778 non-null  float64\n",
      " 7   Overall_Module_efficiency  184778 non-null  float64\n",
      " 8   micro_inverter             184778 non-null  int64  \n",
      " 9   installer_experience       184778 non-null  int64  \n",
      " 10  Premium_Module             184778 non-null  int64  \n",
      "dtypes: float64(6), int64(4), object(1)\n",
      "memory usage: 16.9+ MB\n"
     ]
    }
   ],
   "source": [
    "pv_df1.info()"
   ]
  },
  {
   "cell_type": "markdown",
   "metadata": {},
   "source": [
    "Note here the installer experience is the substitute for installer name. \n",
    "Moving forward - we will extract the state column and create a dummy variable for the state feature, concat it back to the main dataframe and subsequently remove the original categorical featire of the state. "
   ]
  },
  {
   "cell_type": "code",
   "execution_count": 11,
   "metadata": {},
   "outputs": [
    {
     "data": {
      "text/html": [
       "<div>\n",
       "<style scoped>\n",
       "    .dataframe tbody tr th:only-of-type {\n",
       "        vertical-align: middle;\n",
       "    }\n",
       "\n",
       "    .dataframe tbody tr th {\n",
       "        vertical-align: top;\n",
       "    }\n",
       "\n",
       "    .dataframe thead th {\n",
       "        text-align: right;\n",
       "    }\n",
       "</style>\n",
       "<table border=\"1\" class=\"dataframe\">\n",
       "  <thead>\n",
       "    <tr style=\"text-align: right;\">\n",
       "      <th></th>\n",
       "      <th>Year</th>\n",
       "      <th>system_size_DC</th>\n",
       "      <th>new_construction</th>\n",
       "      <th>ground_mounted</th>\n",
       "      <th>DC_optimizer</th>\n",
       "      <th>dollar_per_watt</th>\n",
       "      <th>Overall_Module_efficiency</th>\n",
       "      <th>micro_inverter</th>\n",
       "      <th>installer_experience</th>\n",
       "      <th>Premium_Module</th>\n",
       "      <th>state_FL</th>\n",
       "      <th>state_MA</th>\n",
       "      <th>state_NH</th>\n",
       "    </tr>\n",
       "  </thead>\n",
       "  <tbody>\n",
       "    <tr>\n",
       "      <th>0</th>\n",
       "      <td>2018</td>\n",
       "      <td>10.3700</td>\n",
       "      <td>0.0</td>\n",
       "      <td>0.0</td>\n",
       "      <td>1.0</td>\n",
       "      <td>3.905497</td>\n",
       "      <td>18.711656</td>\n",
       "      <td>0</td>\n",
       "      <td>1</td>\n",
       "      <td>0</td>\n",
       "      <td>0</td>\n",
       "      <td>0</td>\n",
       "      <td>0</td>\n",
       "    </tr>\n",
       "    <tr>\n",
       "      <th>1</th>\n",
       "      <td>2018</td>\n",
       "      <td>7.4305</td>\n",
       "      <td>0.0</td>\n",
       "      <td>0.0</td>\n",
       "      <td>1.0</td>\n",
       "      <td>3.950707</td>\n",
       "      <td>16.512247</td>\n",
       "      <td>0</td>\n",
       "      <td>1</td>\n",
       "      <td>0</td>\n",
       "      <td>0</td>\n",
       "      <td>0</td>\n",
       "      <td>0</td>\n",
       "    </tr>\n",
       "    <tr>\n",
       "      <th>2</th>\n",
       "      <td>2018</td>\n",
       "      <td>12.6000</td>\n",
       "      <td>0.0</td>\n",
       "      <td>0.0</td>\n",
       "      <td>1.0</td>\n",
       "      <td>4.853175</td>\n",
       "      <td>20.917001</td>\n",
       "      <td>0</td>\n",
       "      <td>1</td>\n",
       "      <td>1</td>\n",
       "      <td>0</td>\n",
       "      <td>0</td>\n",
       "      <td>0</td>\n",
       "    </tr>\n",
       "    <tr>\n",
       "      <th>3</th>\n",
       "      <td>2018</td>\n",
       "      <td>5.2800</td>\n",
       "      <td>0.0</td>\n",
       "      <td>0.0</td>\n",
       "      <td>1.0</td>\n",
       "      <td>3.958333</td>\n",
       "      <td>19.710083</td>\n",
       "      <td>0</td>\n",
       "      <td>1</td>\n",
       "      <td>0</td>\n",
       "      <td>0</td>\n",
       "      <td>0</td>\n",
       "      <td>0</td>\n",
       "    </tr>\n",
       "    <tr>\n",
       "      <th>4</th>\n",
       "      <td>2018</td>\n",
       "      <td>6.8400</td>\n",
       "      <td>0.0</td>\n",
       "      <td>0.0</td>\n",
       "      <td>1.0</td>\n",
       "      <td>4.991082</td>\n",
       "      <td>17.447199</td>\n",
       "      <td>0</td>\n",
       "      <td>1</td>\n",
       "      <td>0</td>\n",
       "      <td>0</td>\n",
       "      <td>0</td>\n",
       "      <td>0</td>\n",
       "    </tr>\n",
       "  </tbody>\n",
       "</table>\n",
       "</div>"
      ],
      "text/plain": [
       "   Year  system_size_DC  new_construction  ground_mounted  DC_optimizer  \\\n",
       "0  2018         10.3700               0.0             0.0           1.0   \n",
       "1  2018          7.4305               0.0             0.0           1.0   \n",
       "2  2018         12.6000               0.0             0.0           1.0   \n",
       "3  2018          5.2800               0.0             0.0           1.0   \n",
       "4  2018          6.8400               0.0             0.0           1.0   \n",
       "\n",
       "   dollar_per_watt  Overall_Module_efficiency  micro_inverter  \\\n",
       "0         3.905497                  18.711656               0   \n",
       "1         3.950707                  16.512247               0   \n",
       "2         4.853175                  20.917001               0   \n",
       "3         3.958333                  19.710083               0   \n",
       "4         4.991082                  17.447199               0   \n",
       "\n",
       "   installer_experience  Premium_Module  state_FL  state_MA  state_NH  \n",
       "0                     1               0         0         0         0  \n",
       "1                     1               0         0         0         0  \n",
       "2                     1               1         0         0         0  \n",
       "3                     1               0         0         0         0  \n",
       "4                     1               0         0         0         0  "
      ]
     },
     "execution_count": 11,
     "metadata": {},
     "output_type": "execute_result"
    }
   ],
   "source": [
    "pv_df2 = pd.get_dummies(pv_df1, drop_first = True)\n",
    "pv_df2.head()"
   ]
  },
  {
   "cell_type": "code",
   "execution_count": 12,
   "metadata": {},
   "outputs": [
    {
     "data": {
      "text/html": [
       "<div>\n",
       "<style scoped>\n",
       "    .dataframe tbody tr th:only-of-type {\n",
       "        vertical-align: middle;\n",
       "    }\n",
       "\n",
       "    .dataframe tbody tr th {\n",
       "        vertical-align: top;\n",
       "    }\n",
       "\n",
       "    .dataframe thead th {\n",
       "        text-align: right;\n",
       "    }\n",
       "</style>\n",
       "<table border=\"1\" class=\"dataframe\">\n",
       "  <thead>\n",
       "    <tr style=\"text-align: right;\">\n",
       "      <th></th>\n",
       "      <th>Year</th>\n",
       "      <th>system_size_DC</th>\n",
       "      <th>new_construction</th>\n",
       "      <th>ground_mounted</th>\n",
       "      <th>state</th>\n",
       "      <th>DC_optimizer</th>\n",
       "      <th>dollar_per_watt</th>\n",
       "      <th>Overall_Module_efficiency</th>\n",
       "      <th>micro_inverter</th>\n",
       "      <th>installer_experience</th>\n",
       "      <th>Premium_Module</th>\n",
       "    </tr>\n",
       "  </thead>\n",
       "  <tbody>\n",
       "    <tr>\n",
       "      <th>0</th>\n",
       "      <td>2018</td>\n",
       "      <td>10.3700</td>\n",
       "      <td>0.0</td>\n",
       "      <td>0.0</td>\n",
       "      <td>CA</td>\n",
       "      <td>1.0</td>\n",
       "      <td>3.905497</td>\n",
       "      <td>18.711656</td>\n",
       "      <td>0</td>\n",
       "      <td>1</td>\n",
       "      <td>0</td>\n",
       "    </tr>\n",
       "    <tr>\n",
       "      <th>1</th>\n",
       "      <td>2018</td>\n",
       "      <td>7.4305</td>\n",
       "      <td>0.0</td>\n",
       "      <td>0.0</td>\n",
       "      <td>CA</td>\n",
       "      <td>1.0</td>\n",
       "      <td>3.950707</td>\n",
       "      <td>16.512247</td>\n",
       "      <td>0</td>\n",
       "      <td>1</td>\n",
       "      <td>0</td>\n",
       "    </tr>\n",
       "    <tr>\n",
       "      <th>2</th>\n",
       "      <td>2018</td>\n",
       "      <td>12.6000</td>\n",
       "      <td>0.0</td>\n",
       "      <td>0.0</td>\n",
       "      <td>CA</td>\n",
       "      <td>1.0</td>\n",
       "      <td>4.853175</td>\n",
       "      <td>20.917001</td>\n",
       "      <td>0</td>\n",
       "      <td>1</td>\n",
       "      <td>1</td>\n",
       "    </tr>\n",
       "    <tr>\n",
       "      <th>3</th>\n",
       "      <td>2018</td>\n",
       "      <td>5.2800</td>\n",
       "      <td>0.0</td>\n",
       "      <td>0.0</td>\n",
       "      <td>CA</td>\n",
       "      <td>1.0</td>\n",
       "      <td>3.958333</td>\n",
       "      <td>19.710083</td>\n",
       "      <td>0</td>\n",
       "      <td>1</td>\n",
       "      <td>0</td>\n",
       "    </tr>\n",
       "    <tr>\n",
       "      <th>4</th>\n",
       "      <td>2018</td>\n",
       "      <td>6.8400</td>\n",
       "      <td>0.0</td>\n",
       "      <td>0.0</td>\n",
       "      <td>CA</td>\n",
       "      <td>1.0</td>\n",
       "      <td>4.991082</td>\n",
       "      <td>17.447199</td>\n",
       "      <td>0</td>\n",
       "      <td>1</td>\n",
       "      <td>0</td>\n",
       "    </tr>\n",
       "  </tbody>\n",
       "</table>\n",
       "</div>"
      ],
      "text/plain": [
       "   Year  system_size_DC  new_construction  ground_mounted state  DC_optimizer  \\\n",
       "0  2018         10.3700               0.0             0.0    CA           1.0   \n",
       "1  2018          7.4305               0.0             0.0    CA           1.0   \n",
       "2  2018         12.6000               0.0             0.0    CA           1.0   \n",
       "3  2018          5.2800               0.0             0.0    CA           1.0   \n",
       "4  2018          6.8400               0.0             0.0    CA           1.0   \n",
       "\n",
       "   dollar_per_watt  Overall_Module_efficiency  micro_inverter  \\\n",
       "0         3.905497                  18.711656               0   \n",
       "1         3.950707                  16.512247               0   \n",
       "2         4.853175                  20.917001               0   \n",
       "3         3.958333                  19.710083               0   \n",
       "4         4.991082                  17.447199               0   \n",
       "\n",
       "   installer_experience  Premium_Module  \n",
       "0                     1               0  \n",
       "1                     1               0  \n",
       "2                     1               1  \n",
       "3                     1               0  \n",
       "4                     1               0  "
      ]
     },
     "execution_count": 12,
     "metadata": {},
     "output_type": "execute_result"
    }
   ],
   "source": [
    "pv_df1.head()"
   ]
  },
  {
   "cell_type": "code",
   "execution_count": 13,
   "metadata": {},
   "outputs": [
    {
     "data": {
      "text/html": [
       "<div>\n",
       "<style scoped>\n",
       "    .dataframe tbody tr th:only-of-type {\n",
       "        vertical-align: middle;\n",
       "    }\n",
       "\n",
       "    .dataframe tbody tr th {\n",
       "        vertical-align: top;\n",
       "    }\n",
       "\n",
       "    .dataframe thead th {\n",
       "        text-align: right;\n",
       "    }\n",
       "</style>\n",
       "<table border=\"1\" class=\"dataframe\">\n",
       "  <thead>\n",
       "    <tr style=\"text-align: right;\">\n",
       "      <th></th>\n",
       "      <th>Year</th>\n",
       "      <th>system_size_DC</th>\n",
       "      <th>new_construction</th>\n",
       "      <th>ground_mounted</th>\n",
       "      <th>DC_optimizer</th>\n",
       "      <th>dollar_per_watt</th>\n",
       "      <th>Overall_Module_efficiency</th>\n",
       "      <th>micro_inverter</th>\n",
       "      <th>installer_experience</th>\n",
       "      <th>Premium_Module</th>\n",
       "      <th>state_FL</th>\n",
       "      <th>state_MA</th>\n",
       "      <th>state_NH</th>\n",
       "    </tr>\n",
       "  </thead>\n",
       "  <tbody>\n",
       "    <tr>\n",
       "      <th>0</th>\n",
       "      <td>2018</td>\n",
       "      <td>10.3700</td>\n",
       "      <td>0</td>\n",
       "      <td>0</td>\n",
       "      <td>1</td>\n",
       "      <td>3.905497</td>\n",
       "      <td>18.711656</td>\n",
       "      <td>0</td>\n",
       "      <td>1</td>\n",
       "      <td>0</td>\n",
       "      <td>0</td>\n",
       "      <td>0</td>\n",
       "      <td>0</td>\n",
       "    </tr>\n",
       "    <tr>\n",
       "      <th>1</th>\n",
       "      <td>2018</td>\n",
       "      <td>7.4305</td>\n",
       "      <td>0</td>\n",
       "      <td>0</td>\n",
       "      <td>1</td>\n",
       "      <td>3.950707</td>\n",
       "      <td>16.512247</td>\n",
       "      <td>0</td>\n",
       "      <td>1</td>\n",
       "      <td>0</td>\n",
       "      <td>0</td>\n",
       "      <td>0</td>\n",
       "      <td>0</td>\n",
       "    </tr>\n",
       "    <tr>\n",
       "      <th>2</th>\n",
       "      <td>2018</td>\n",
       "      <td>12.6000</td>\n",
       "      <td>0</td>\n",
       "      <td>0</td>\n",
       "      <td>1</td>\n",
       "      <td>4.853175</td>\n",
       "      <td>20.917001</td>\n",
       "      <td>0</td>\n",
       "      <td>1</td>\n",
       "      <td>1</td>\n",
       "      <td>0</td>\n",
       "      <td>0</td>\n",
       "      <td>0</td>\n",
       "    </tr>\n",
       "    <tr>\n",
       "      <th>3</th>\n",
       "      <td>2018</td>\n",
       "      <td>5.2800</td>\n",
       "      <td>0</td>\n",
       "      <td>0</td>\n",
       "      <td>1</td>\n",
       "      <td>3.958333</td>\n",
       "      <td>19.710083</td>\n",
       "      <td>0</td>\n",
       "      <td>1</td>\n",
       "      <td>0</td>\n",
       "      <td>0</td>\n",
       "      <td>0</td>\n",
       "      <td>0</td>\n",
       "    </tr>\n",
       "    <tr>\n",
       "      <th>4</th>\n",
       "      <td>2018</td>\n",
       "      <td>6.8400</td>\n",
       "      <td>0</td>\n",
       "      <td>0</td>\n",
       "      <td>1</td>\n",
       "      <td>4.991082</td>\n",
       "      <td>17.447199</td>\n",
       "      <td>0</td>\n",
       "      <td>1</td>\n",
       "      <td>0</td>\n",
       "      <td>0</td>\n",
       "      <td>0</td>\n",
       "      <td>0</td>\n",
       "    </tr>\n",
       "  </tbody>\n",
       "</table>\n",
       "</div>"
      ],
      "text/plain": [
       "   Year  system_size_DC  new_construction  ground_mounted  DC_optimizer  \\\n",
       "0  2018         10.3700                 0               0             1   \n",
       "1  2018          7.4305                 0               0             1   \n",
       "2  2018         12.6000                 0               0             1   \n",
       "3  2018          5.2800                 0               0             1   \n",
       "4  2018          6.8400                 0               0             1   \n",
       "\n",
       "   dollar_per_watt  Overall_Module_efficiency  micro_inverter  \\\n",
       "0         3.905497                  18.711656               0   \n",
       "1         3.950707                  16.512247               0   \n",
       "2         4.853175                  20.917001               0   \n",
       "3         3.958333                  19.710083               0   \n",
       "4         4.991082                  17.447199               0   \n",
       "\n",
       "   installer_experience  Premium_Module  state_FL  state_MA  state_NH  \n",
       "0                     1               0         0         0         0  \n",
       "1                     1               0         0         0         0  \n",
       "2                     1               1         0         0         0  \n",
       "3                     1               0         0         0         0  \n",
       "4                     1               0         0         0         0  "
      ]
     },
     "execution_count": 13,
     "metadata": {},
     "output_type": "execute_result"
    }
   ],
   "source": [
    "pv_df2 = pv_df2.astype({\"new_construction\":'int', \"ground_mounted\":'int', \"DC_optimizer\" : 'int'})\n",
    "pv_df2.head()"
   ]
  },
  {
   "cell_type": "code",
   "execution_count": 14,
   "metadata": {},
   "outputs": [
    {
     "name": "stdout",
     "output_type": "stream",
     "text": [
      "<class 'pandas.core.frame.DataFrame'>\n",
      "Int64Index: 184778 entries, 0 to 184777\n",
      "Data columns (total 13 columns):\n",
      " #   Column                     Non-Null Count   Dtype  \n",
      "---  ------                     --------------   -----  \n",
      " 0   Year                       184778 non-null  int64  \n",
      " 1   system_size_DC             184778 non-null  float64\n",
      " 2   new_construction           184778 non-null  int64  \n",
      " 3   ground_mounted             184778 non-null  int64  \n",
      " 4   DC_optimizer               184778 non-null  int64  \n",
      " 5   dollar_per_watt            184778 non-null  float64\n",
      " 6   Overall_Module_efficiency  184778 non-null  float64\n",
      " 7   micro_inverter             184778 non-null  int64  \n",
      " 8   installer_experience       184778 non-null  int64  \n",
      " 9   Premium_Module             184778 non-null  int64  \n",
      " 10  state_FL                   184778 non-null  uint8  \n",
      " 11  state_MA                   184778 non-null  uint8  \n",
      " 12  state_NH                   184778 non-null  uint8  \n",
      "dtypes: float64(3), int64(7), uint8(3)\n",
      "memory usage: 16.0 MB\n"
     ]
    }
   ],
   "source": [
    "pv_df2.info()"
   ]
  },
  {
   "cell_type": "code",
   "execution_count": 15,
   "metadata": {},
   "outputs": [
    {
     "data": {
      "text/plain": [
       "2019    93266\n",
       "2018    91512\n",
       "Name: Year, dtype: int64"
      ]
     },
     "execution_count": 15,
     "metadata": {},
     "output_type": "execute_result"
    }
   ],
   "source": [
    "pv_df2['Year'].value_counts()"
   ]
  },
  {
   "cell_type": "markdown",
   "metadata": {},
   "source": [
    "Since we are explicitly focusing on installations from the year 2018 and 2019 we can drop the Year column. "
   ]
  },
  {
   "cell_type": "code",
   "execution_count": 16,
   "metadata": {},
   "outputs": [],
   "source": [
    "pv_df2.drop(columns = 'Year', axis = 1, inplace = True)\n"
   ]
  },
  {
   "cell_type": "code",
   "execution_count": 17,
   "metadata": {},
   "outputs": [
    {
     "name": "stdout",
     "output_type": "stream",
     "text": [
      "<class 'pandas.core.frame.DataFrame'>\n",
      "Int64Index: 184778 entries, 0 to 184777\n",
      "Data columns (total 12 columns):\n",
      " #   Column                     Non-Null Count   Dtype  \n",
      "---  ------                     --------------   -----  \n",
      " 0   system_size_DC             184778 non-null  float64\n",
      " 1   new_construction           184778 non-null  int64  \n",
      " 2   ground_mounted             184778 non-null  int64  \n",
      " 3   DC_optimizer               184778 non-null  int64  \n",
      " 4   dollar_per_watt            184778 non-null  float64\n",
      " 5   Overall_Module_efficiency  184778 non-null  float64\n",
      " 6   micro_inverter             184778 non-null  int64  \n",
      " 7   installer_experience       184778 non-null  int64  \n",
      " 8   Premium_Module             184778 non-null  int64  \n",
      " 9   state_FL                   184778 non-null  uint8  \n",
      " 10  state_MA                   184778 non-null  uint8  \n",
      " 11  state_NH                   184778 non-null  uint8  \n",
      "dtypes: float64(3), int64(6), uint8(3)\n",
      "memory usage: 14.6 MB\n"
     ]
    }
   ],
   "source": [
    "pv_df2.info()"
   ]
  },
  {
   "cell_type": "code",
   "execution_count": 18,
   "metadata": {},
   "outputs": [],
   "source": [
    "# renaming columns for ease of use\n",
    "pv_df2.rename(columns = {'system_size_DC': 'kW'}, inplace = True)"
   ]
  },
  {
   "cell_type": "code",
   "execution_count": 19,
   "metadata": {},
   "outputs": [
    {
     "name": "stdout",
     "output_type": "stream",
     "text": [
      "<class 'pandas.core.frame.DataFrame'>\n",
      "Int64Index: 184778 entries, 0 to 184777\n",
      "Data columns (total 12 columns):\n",
      " #   Column                     Non-Null Count   Dtype  \n",
      "---  ------                     --------------   -----  \n",
      " 0   kW                         184778 non-null  float64\n",
      " 1   new_construction           184778 non-null  int64  \n",
      " 2   ground_mounted             184778 non-null  int64  \n",
      " 3   DC_optimizer               184778 non-null  int64  \n",
      " 4   dollar_per_watt            184778 non-null  float64\n",
      " 5   Overall_Module_efficiency  184778 non-null  float64\n",
      " 6   micro_inverter             184778 non-null  int64  \n",
      " 7   installer_experience       184778 non-null  int64  \n",
      " 8   Premium_Module             184778 non-null  int64  \n",
      " 9   state_FL                   184778 non-null  uint8  \n",
      " 10  state_MA                   184778 non-null  uint8  \n",
      " 11  state_NH                   184778 non-null  uint8  \n",
      "dtypes: float64(3), int64(6), uint8(3)\n",
      "memory usage: 14.6 MB\n"
     ]
    }
   ],
   "source": [
    "pv_df2.info()"
   ]
  },
  {
   "cell_type": "code",
   "execution_count": 20,
   "metadata": {},
   "outputs": [],
   "source": [
    "# considering only the numerical columns for standardization\n",
    "from sklearn.preprocessing import StandardScaler\n",
    "\n",
    "X = pv_df2.drop(columns = 'dollar_per_watt', axis = 1)\n",
    "y = pv_df2['dollar_per_watt']\n",
    "\n"
   ]
  },
  {
   "cell_type": "code",
   "execution_count": 21,
   "metadata": {},
   "outputs": [
    {
     "data": {
      "text/html": [
       "<div>\n",
       "<style scoped>\n",
       "    .dataframe tbody tr th:only-of-type {\n",
       "        vertical-align: middle;\n",
       "    }\n",
       "\n",
       "    .dataframe tbody tr th {\n",
       "        vertical-align: top;\n",
       "    }\n",
       "\n",
       "    .dataframe thead th {\n",
       "        text-align: right;\n",
       "    }\n",
       "</style>\n",
       "<table border=\"1\" class=\"dataframe\">\n",
       "  <thead>\n",
       "    <tr style=\"text-align: right;\">\n",
       "      <th></th>\n",
       "      <th>kW</th>\n",
       "      <th>new_construction</th>\n",
       "      <th>ground_mounted</th>\n",
       "      <th>DC_optimizer</th>\n",
       "      <th>Overall_Module_efficiency</th>\n",
       "      <th>micro_inverter</th>\n",
       "      <th>installer_experience</th>\n",
       "      <th>Premium_Module</th>\n",
       "      <th>state_FL</th>\n",
       "      <th>state_MA</th>\n",
       "      <th>state_NH</th>\n",
       "    </tr>\n",
       "  </thead>\n",
       "  <tbody>\n",
       "    <tr>\n",
       "      <th>0</th>\n",
       "      <td>10.3700</td>\n",
       "      <td>0</td>\n",
       "      <td>0</td>\n",
       "      <td>1</td>\n",
       "      <td>18.711656</td>\n",
       "      <td>0</td>\n",
       "      <td>1</td>\n",
       "      <td>0</td>\n",
       "      <td>0</td>\n",
       "      <td>0</td>\n",
       "      <td>0</td>\n",
       "    </tr>\n",
       "    <tr>\n",
       "      <th>1</th>\n",
       "      <td>7.4305</td>\n",
       "      <td>0</td>\n",
       "      <td>0</td>\n",
       "      <td>1</td>\n",
       "      <td>16.512247</td>\n",
       "      <td>0</td>\n",
       "      <td>1</td>\n",
       "      <td>0</td>\n",
       "      <td>0</td>\n",
       "      <td>0</td>\n",
       "      <td>0</td>\n",
       "    </tr>\n",
       "    <tr>\n",
       "      <th>2</th>\n",
       "      <td>12.6000</td>\n",
       "      <td>0</td>\n",
       "      <td>0</td>\n",
       "      <td>1</td>\n",
       "      <td>20.917001</td>\n",
       "      <td>0</td>\n",
       "      <td>1</td>\n",
       "      <td>1</td>\n",
       "      <td>0</td>\n",
       "      <td>0</td>\n",
       "      <td>0</td>\n",
       "    </tr>\n",
       "    <tr>\n",
       "      <th>3</th>\n",
       "      <td>5.2800</td>\n",
       "      <td>0</td>\n",
       "      <td>0</td>\n",
       "      <td>1</td>\n",
       "      <td>19.710083</td>\n",
       "      <td>0</td>\n",
       "      <td>1</td>\n",
       "      <td>0</td>\n",
       "      <td>0</td>\n",
       "      <td>0</td>\n",
       "      <td>0</td>\n",
       "    </tr>\n",
       "    <tr>\n",
       "      <th>4</th>\n",
       "      <td>6.8400</td>\n",
       "      <td>0</td>\n",
       "      <td>0</td>\n",
       "      <td>1</td>\n",
       "      <td>17.447199</td>\n",
       "      <td>0</td>\n",
       "      <td>1</td>\n",
       "      <td>0</td>\n",
       "      <td>0</td>\n",
       "      <td>0</td>\n",
       "      <td>0</td>\n",
       "    </tr>\n",
       "  </tbody>\n",
       "</table>\n",
       "</div>"
      ],
      "text/plain": [
       "        kW  new_construction  ground_mounted  DC_optimizer  \\\n",
       "0  10.3700                 0               0             1   \n",
       "1   7.4305                 0               0             1   \n",
       "2  12.6000                 0               0             1   \n",
       "3   5.2800                 0               0             1   \n",
       "4   6.8400                 0               0             1   \n",
       "\n",
       "   Overall_Module_efficiency  micro_inverter  installer_experience  \\\n",
       "0                  18.711656               0                     1   \n",
       "1                  16.512247               0                     1   \n",
       "2                  20.917001               0                     1   \n",
       "3                  19.710083               0                     1   \n",
       "4                  17.447199               0                     1   \n",
       "\n",
       "   Premium_Module  state_FL  state_MA  state_NH  \n",
       "0               0         0         0         0  \n",
       "1               0         0         0         0  \n",
       "2               1         0         0         0  \n",
       "3               0         0         0         0  \n",
       "4               0         0         0         0  "
      ]
     },
     "execution_count": 21,
     "metadata": {},
     "output_type": "execute_result"
    }
   ],
   "source": [
    "X.head()"
   ]
  },
  {
   "cell_type": "code",
   "execution_count": 22,
   "metadata": {},
   "outputs": [
    {
     "data": {
      "text/plain": [
       "0    3.905497\n",
       "1    3.950707\n",
       "2    4.853175\n",
       "3    3.958333\n",
       "4    4.991082\n",
       "Name: dollar_per_watt, dtype: float64"
      ]
     },
     "execution_count": 22,
     "metadata": {},
     "output_type": "execute_result"
    }
   ],
   "source": [
    "y.head()"
   ]
  },
  {
   "cell_type": "code",
   "execution_count": 23,
   "metadata": {},
   "outputs": [],
   "source": [
    "X_train, X_test, y_train, y_test = train_test_split(X, y, test_size = 0.3, random_state = 123)"
   ]
  },
  {
   "cell_type": "code",
   "execution_count": 24,
   "metadata": {},
   "outputs": [
    {
     "data": {
      "text/html": [
       "<div>\n",
       "<style scoped>\n",
       "    .dataframe tbody tr th:only-of-type {\n",
       "        vertical-align: middle;\n",
       "    }\n",
       "\n",
       "    .dataframe tbody tr th {\n",
       "        vertical-align: top;\n",
       "    }\n",
       "\n",
       "    .dataframe thead th {\n",
       "        text-align: right;\n",
       "    }\n",
       "</style>\n",
       "<table border=\"1\" class=\"dataframe\">\n",
       "  <thead>\n",
       "    <tr style=\"text-align: right;\">\n",
       "      <th></th>\n",
       "      <th>kW</th>\n",
       "      <th>new_construction</th>\n",
       "      <th>ground_mounted</th>\n",
       "      <th>DC_optimizer</th>\n",
       "      <th>Overall_Module_efficiency</th>\n",
       "      <th>micro_inverter</th>\n",
       "      <th>installer_experience</th>\n",
       "      <th>Premium_Module</th>\n",
       "      <th>state_FL</th>\n",
       "      <th>state_MA</th>\n",
       "      <th>state_NH</th>\n",
       "    </tr>\n",
       "  </thead>\n",
       "  <tbody>\n",
       "    <tr>\n",
       "      <th>106981</th>\n",
       "      <td>5.90</td>\n",
       "      <td>0</td>\n",
       "      <td>0</td>\n",
       "      <td>1</td>\n",
       "      <td>18.198822</td>\n",
       "      <td>0</td>\n",
       "      <td>15</td>\n",
       "      <td>0</td>\n",
       "      <td>0</td>\n",
       "      <td>0</td>\n",
       "      <td>0</td>\n",
       "    </tr>\n",
       "    <tr>\n",
       "      <th>77562</th>\n",
       "      <td>6.71</td>\n",
       "      <td>0</td>\n",
       "      <td>0</td>\n",
       "      <td>1</td>\n",
       "      <td>18.263473</td>\n",
       "      <td>0</td>\n",
       "      <td>93</td>\n",
       "      <td>0</td>\n",
       "      <td>0</td>\n",
       "      <td>0</td>\n",
       "      <td>0</td>\n",
       "    </tr>\n",
       "    <tr>\n",
       "      <th>64911</th>\n",
       "      <td>7.70</td>\n",
       "      <td>0</td>\n",
       "      <td>0</td>\n",
       "      <td>1</td>\n",
       "      <td>19.743590</td>\n",
       "      <td>0</td>\n",
       "      <td>87</td>\n",
       "      <td>0</td>\n",
       "      <td>0</td>\n",
       "      <td>0</td>\n",
       "      <td>0</td>\n",
       "    </tr>\n",
       "    <tr>\n",
       "      <th>36565</th>\n",
       "      <td>9.57</td>\n",
       "      <td>0</td>\n",
       "      <td>0</td>\n",
       "      <td>1</td>\n",
       "      <td>19.710083</td>\n",
       "      <td>0</td>\n",
       "      <td>54</td>\n",
       "      <td>0</td>\n",
       "      <td>0</td>\n",
       "      <td>0</td>\n",
       "      <td>0</td>\n",
       "    </tr>\n",
       "    <tr>\n",
       "      <th>26404</th>\n",
       "      <td>9.54</td>\n",
       "      <td>0</td>\n",
       "      <td>0</td>\n",
       "      <td>0</td>\n",
       "      <td>16.462286</td>\n",
       "      <td>1</td>\n",
       "      <td>124</td>\n",
       "      <td>0</td>\n",
       "      <td>0</td>\n",
       "      <td>0</td>\n",
       "      <td>0</td>\n",
       "    </tr>\n",
       "  </tbody>\n",
       "</table>\n",
       "</div>"
      ],
      "text/plain": [
       "          kW  new_construction  ground_mounted  DC_optimizer  \\\n",
       "106981  5.90                 0               0             1   \n",
       "77562   6.71                 0               0             1   \n",
       "64911   7.70                 0               0             1   \n",
       "36565   9.57                 0               0             1   \n",
       "26404   9.54                 0               0             0   \n",
       "\n",
       "        Overall_Module_efficiency  micro_inverter  installer_experience  \\\n",
       "106981                  18.198822               0                    15   \n",
       "77562                   18.263473               0                    93   \n",
       "64911                   19.743590               0                    87   \n",
       "36565                   19.710083               0                    54   \n",
       "26404                   16.462286               1                   124   \n",
       "\n",
       "        Premium_Module  state_FL  state_MA  state_NH  \n",
       "106981               0         0         0         0  \n",
       "77562                0         0         0         0  \n",
       "64911                0         0         0         0  \n",
       "36565                0         0         0         0  \n",
       "26404                0         0         0         0  "
      ]
     },
     "execution_count": 24,
     "metadata": {},
     "output_type": "execute_result"
    }
   ],
   "source": [
    "X_train.head()"
   ]
  },
  {
   "cell_type": "code",
   "execution_count": 25,
   "metadata": {},
   "outputs": [
    {
     "name": "stdout",
     "output_type": "stream",
     "text": [
      "<class 'pandas.core.frame.DataFrame'>\n",
      "Int64Index: 129344 entries, 106981 to 15725\n",
      "Data columns (total 11 columns):\n",
      " #   Column                     Non-Null Count   Dtype  \n",
      "---  ------                     --------------   -----  \n",
      " 0   kW                         129344 non-null  float64\n",
      " 1   new_construction           129344 non-null  int64  \n",
      " 2   ground_mounted             129344 non-null  int64  \n",
      " 3   DC_optimizer               129344 non-null  int64  \n",
      " 4   Overall_Module_efficiency  129344 non-null  float64\n",
      " 5   micro_inverter             129344 non-null  int64  \n",
      " 6   installer_experience       129344 non-null  int64  \n",
      " 7   Premium_Module             129344 non-null  int64  \n",
      " 8   state_FL                   129344 non-null  uint8  \n",
      " 9   state_MA                   129344 non-null  uint8  \n",
      " 10  state_NH                   129344 non-null  uint8  \n",
      "dtypes: float64(2), int64(6), uint8(3)\n",
      "memory usage: 9.3 MB\n"
     ]
    }
   ],
   "source": [
    "X_train.info()"
   ]
  },
  {
   "cell_type": "code",
   "execution_count": 26,
   "metadata": {},
   "outputs": [],
   "source": [
    "# extracting only numeric features in both the train set before applying standard scaler\n",
    "# apply the scaler fit and transform to the X_tr dataset\n",
    "X_tr = X_train[['kW', 'Overall_Module_efficiency', 'installer_experience']]"
   ]
  },
  {
   "cell_type": "code",
   "execution_count": 27,
   "metadata": {},
   "outputs": [
    {
     "name": "stdout",
     "output_type": "stream",
     "text": [
      "<class 'pandas.core.frame.DataFrame'>\n",
      "Int64Index: 129344 entries, 106981 to 15725\n",
      "Data columns (total 3 columns):\n",
      " #   Column                     Non-Null Count   Dtype  \n",
      "---  ------                     --------------   -----  \n",
      " 0   kW                         129344 non-null  float64\n",
      " 1   Overall_Module_efficiency  129344 non-null  float64\n",
      " 2   installer_experience       129344 non-null  int64  \n",
      "dtypes: float64(2), int64(1)\n",
      "memory usage: 3.9 MB\n"
     ]
    }
   ],
   "source": [
    "X_tr.info()"
   ]
  },
  {
   "cell_type": "code",
   "execution_count": 28,
   "metadata": {},
   "outputs": [],
   "source": [
    "# extracting only numeric features in the test set.\n",
    "# Apply the scaler transformation to X_te\n",
    "X_te = X_test[['kW', 'Overall_Module_efficiency', 'installer_experience']]"
   ]
  },
  {
   "cell_type": "code",
   "execution_count": 29,
   "metadata": {},
   "outputs": [],
   "source": [
    "scaler = StandardScaler()\n",
    "X_tr_scaled = scaler.fit(X_tr) # fitting only numeric features from train dataset\n"
   ]
  },
  {
   "cell_type": "code",
   "execution_count": 30,
   "metadata": {},
   "outputs": [
    {
     "data": {
      "text/plain": [
       "array([   7.26369865,   19.40001248, 1785.56053624])"
      ]
     },
     "execution_count": 30,
     "metadata": {},
     "output_type": "execute_result"
    }
   ],
   "source": [
    "X_tr_scaled.mean_"
   ]
  },
  {
   "cell_type": "code",
   "execution_count": 31,
   "metadata": {},
   "outputs": [
    {
     "name": "stdout",
     "output_type": "stream",
     "text": [
      "StandardScaler()\n"
     ]
    }
   ],
   "source": [
    "print(X_tr_scaled)"
   ]
  },
  {
   "cell_type": "code",
   "execution_count": 32,
   "metadata": {},
   "outputs": [],
   "source": [
    "X_tr_transformed = X_tr_scaled.transform(X_tr) # transforming training data set using the scaler"
   ]
  },
  {
   "cell_type": "code",
   "execution_count": 33,
   "metadata": {},
   "outputs": [
    {
     "data": {
      "text/plain": [
       "array([-7.36394836e-17,  4.77709026e-16,  2.74671703e-18])"
      ]
     },
     "execution_count": 33,
     "metadata": {},
     "output_type": "execute_result"
    }
   ],
   "source": [
    "X_tr_transformed.mean(axis = 0)"
   ]
  },
  {
   "cell_type": "code",
   "execution_count": 34,
   "metadata": {},
   "outputs": [],
   "source": [
    "# transforming the test data set using the scaler created from the train data set\n",
    "X_te_transformed = X_tr_scaled.transform(X_te)"
   ]
  },
  {
   "cell_type": "code",
   "execution_count": 35,
   "metadata": {},
   "outputs": [
    {
     "data": {
      "text/plain": [
       "array([ 5.89268800e-05, -5.56999124e-03, -2.57322367e-03])"
      ]
     },
     "execution_count": 35,
     "metadata": {},
     "output_type": "execute_result"
    }
   ],
   "source": [
    "X_te_transformed.mean(axis = 0)"
   ]
  },
  {
   "cell_type": "code",
   "execution_count": 36,
   "metadata": {},
   "outputs": [
    {
     "data": {
      "text/html": [
       "<div>\n",
       "<style scoped>\n",
       "    .dataframe tbody tr th:only-of-type {\n",
       "        vertical-align: middle;\n",
       "    }\n",
       "\n",
       "    .dataframe tbody tr th {\n",
       "        vertical-align: top;\n",
       "    }\n",
       "\n",
       "    .dataframe thead th {\n",
       "        text-align: right;\n",
       "    }\n",
       "</style>\n",
       "<table border=\"1\" class=\"dataframe\">\n",
       "  <thead>\n",
       "    <tr style=\"text-align: right;\">\n",
       "      <th></th>\n",
       "      <th>kW</th>\n",
       "      <th>new_construction</th>\n",
       "      <th>ground_mounted</th>\n",
       "      <th>DC_optimizer</th>\n",
       "      <th>Overall_Module_efficiency</th>\n",
       "      <th>micro_inverter</th>\n",
       "      <th>installer_experience</th>\n",
       "      <th>Premium_Module</th>\n",
       "      <th>state_FL</th>\n",
       "      <th>state_MA</th>\n",
       "      <th>state_NH</th>\n",
       "    </tr>\n",
       "  </thead>\n",
       "  <tbody>\n",
       "    <tr>\n",
       "      <th>106981</th>\n",
       "      <td>5.90</td>\n",
       "      <td>0</td>\n",
       "      <td>0</td>\n",
       "      <td>1</td>\n",
       "      <td>18.198822</td>\n",
       "      <td>0</td>\n",
       "      <td>15</td>\n",
       "      <td>0</td>\n",
       "      <td>0</td>\n",
       "      <td>0</td>\n",
       "      <td>0</td>\n",
       "    </tr>\n",
       "    <tr>\n",
       "      <th>77562</th>\n",
       "      <td>6.71</td>\n",
       "      <td>0</td>\n",
       "      <td>0</td>\n",
       "      <td>1</td>\n",
       "      <td>18.263473</td>\n",
       "      <td>0</td>\n",
       "      <td>93</td>\n",
       "      <td>0</td>\n",
       "      <td>0</td>\n",
       "      <td>0</td>\n",
       "      <td>0</td>\n",
       "    </tr>\n",
       "    <tr>\n",
       "      <th>64911</th>\n",
       "      <td>7.70</td>\n",
       "      <td>0</td>\n",
       "      <td>0</td>\n",
       "      <td>1</td>\n",
       "      <td>19.743590</td>\n",
       "      <td>0</td>\n",
       "      <td>87</td>\n",
       "      <td>0</td>\n",
       "      <td>0</td>\n",
       "      <td>0</td>\n",
       "      <td>0</td>\n",
       "    </tr>\n",
       "    <tr>\n",
       "      <th>36565</th>\n",
       "      <td>9.57</td>\n",
       "      <td>0</td>\n",
       "      <td>0</td>\n",
       "      <td>1</td>\n",
       "      <td>19.710083</td>\n",
       "      <td>0</td>\n",
       "      <td>54</td>\n",
       "      <td>0</td>\n",
       "      <td>0</td>\n",
       "      <td>0</td>\n",
       "      <td>0</td>\n",
       "    </tr>\n",
       "    <tr>\n",
       "      <th>26404</th>\n",
       "      <td>9.54</td>\n",
       "      <td>0</td>\n",
       "      <td>0</td>\n",
       "      <td>0</td>\n",
       "      <td>16.462286</td>\n",
       "      <td>1</td>\n",
       "      <td>124</td>\n",
       "      <td>0</td>\n",
       "      <td>0</td>\n",
       "      <td>0</td>\n",
       "      <td>0</td>\n",
       "    </tr>\n",
       "  </tbody>\n",
       "</table>\n",
       "</div>"
      ],
      "text/plain": [
       "          kW  new_construction  ground_mounted  DC_optimizer  \\\n",
       "106981  5.90                 0               0             1   \n",
       "77562   6.71                 0               0             1   \n",
       "64911   7.70                 0               0             1   \n",
       "36565   9.57                 0               0             1   \n",
       "26404   9.54                 0               0             0   \n",
       "\n",
       "        Overall_Module_efficiency  micro_inverter  installer_experience  \\\n",
       "106981                  18.198822               0                    15   \n",
       "77562                   18.263473               0                    93   \n",
       "64911                   19.743590               0                    87   \n",
       "36565                   19.710083               0                    54   \n",
       "26404                   16.462286               1                   124   \n",
       "\n",
       "        Premium_Module  state_FL  state_MA  state_NH  \n",
       "106981               0         0         0         0  \n",
       "77562                0         0         0         0  \n",
       "64911                0         0         0         0  \n",
       "36565                0         0         0         0  \n",
       "26404                0         0         0         0  "
      ]
     },
     "execution_count": 36,
     "metadata": {},
     "output_type": "execute_result"
    }
   ],
   "source": [
    "# putting the transformed values in train data sset back to the original train dataset\n",
    "X_train.head()"
   ]
  },
  {
   "cell_type": "code",
   "execution_count": 37,
   "metadata": {},
   "outputs": [
    {
     "name": "stderr",
     "output_type": "stream",
     "text": [
      "/Users/srijagannathan/opt/anaconda3/lib/python3.8/site-packages/pandas/core/indexing.py:1736: SettingWithCopyWarning: \n",
      "A value is trying to be set on a copy of a slice from a DataFrame.\n",
      "Try using .loc[row_indexer,col_indexer] = value instead\n",
      "\n",
      "See the caveats in the documentation: https://pandas.pydata.org/pandas-docs/stable/user_guide/indexing.html#returning-a-view-versus-a-copy\n",
      "  isetter(loc, value[:, i].tolist())\n"
     ]
    }
   ],
   "source": [
    "X_train.loc[:, ['kW', 'Overall_Module_efficiency', 'installer_experience']] = X_tr_transformed"
   ]
  },
  {
   "cell_type": "code",
   "execution_count": 38,
   "metadata": {},
   "outputs": [
    {
     "data": {
      "text/html": [
       "<div>\n",
       "<style scoped>\n",
       "    .dataframe tbody tr th:only-of-type {\n",
       "        vertical-align: middle;\n",
       "    }\n",
       "\n",
       "    .dataframe tbody tr th {\n",
       "        vertical-align: top;\n",
       "    }\n",
       "\n",
       "    .dataframe thead th {\n",
       "        text-align: right;\n",
       "    }\n",
       "</style>\n",
       "<table border=\"1\" class=\"dataframe\">\n",
       "  <thead>\n",
       "    <tr style=\"text-align: right;\">\n",
       "      <th></th>\n",
       "      <th>kW</th>\n",
       "      <th>new_construction</th>\n",
       "      <th>ground_mounted</th>\n",
       "      <th>DC_optimizer</th>\n",
       "      <th>Overall_Module_efficiency</th>\n",
       "      <th>micro_inverter</th>\n",
       "      <th>installer_experience</th>\n",
       "      <th>Premium_Module</th>\n",
       "      <th>state_FL</th>\n",
       "      <th>state_MA</th>\n",
       "      <th>state_NH</th>\n",
       "    </tr>\n",
       "  </thead>\n",
       "  <tbody>\n",
       "    <tr>\n",
       "      <th>106981</th>\n",
       "      <td>-0.227901</td>\n",
       "      <td>0</td>\n",
       "      <td>0</td>\n",
       "      <td>1</td>\n",
       "      <td>-0.806933</td>\n",
       "      <td>0</td>\n",
       "      <td>-0.548542</td>\n",
       "      <td>0</td>\n",
       "      <td>0</td>\n",
       "      <td>0</td>\n",
       "      <td>0</td>\n",
       "    </tr>\n",
       "    <tr>\n",
       "      <th>77562</th>\n",
       "      <td>-0.092534</td>\n",
       "      <td>0</td>\n",
       "      <td>0</td>\n",
       "      <td>1</td>\n",
       "      <td>-0.763502</td>\n",
       "      <td>0</td>\n",
       "      <td>-0.524376</td>\n",
       "      <td>0</td>\n",
       "      <td>0</td>\n",
       "      <td>0</td>\n",
       "      <td>0</td>\n",
       "    </tr>\n",
       "    <tr>\n",
       "      <th>64911</th>\n",
       "      <td>0.072915</td>\n",
       "      <td>0</td>\n",
       "      <td>0</td>\n",
       "      <td>1</td>\n",
       "      <td>0.230808</td>\n",
       "      <td>0</td>\n",
       "      <td>-0.526235</td>\n",
       "      <td>0</td>\n",
       "      <td>0</td>\n",
       "      <td>0</td>\n",
       "      <td>0</td>\n",
       "    </tr>\n",
       "    <tr>\n",
       "      <th>36565</th>\n",
       "      <td>0.385429</td>\n",
       "      <td>0</td>\n",
       "      <td>0</td>\n",
       "      <td>1</td>\n",
       "      <td>0.208298</td>\n",
       "      <td>0</td>\n",
       "      <td>-0.536459</td>\n",
       "      <td>0</td>\n",
       "      <td>0</td>\n",
       "      <td>0</td>\n",
       "      <td>0</td>\n",
       "    </tr>\n",
       "    <tr>\n",
       "      <th>26404</th>\n",
       "      <td>0.380415</td>\n",
       "      <td>0</td>\n",
       "      <td>0</td>\n",
       "      <td>0</td>\n",
       "      <td>-1.973500</td>\n",
       "      <td>1</td>\n",
       "      <td>-0.514772</td>\n",
       "      <td>0</td>\n",
       "      <td>0</td>\n",
       "      <td>0</td>\n",
       "      <td>0</td>\n",
       "    </tr>\n",
       "  </tbody>\n",
       "</table>\n",
       "</div>"
      ],
      "text/plain": [
       "              kW  new_construction  ground_mounted  DC_optimizer  \\\n",
       "106981 -0.227901                 0               0             1   \n",
       "77562  -0.092534                 0               0             1   \n",
       "64911   0.072915                 0               0             1   \n",
       "36565   0.385429                 0               0             1   \n",
       "26404   0.380415                 0               0             0   \n",
       "\n",
       "        Overall_Module_efficiency  micro_inverter  installer_experience  \\\n",
       "106981                  -0.806933               0             -0.548542   \n",
       "77562                   -0.763502               0             -0.524376   \n",
       "64911                    0.230808               0             -0.526235   \n",
       "36565                    0.208298               0             -0.536459   \n",
       "26404                   -1.973500               1             -0.514772   \n",
       "\n",
       "        Premium_Module  state_FL  state_MA  state_NH  \n",
       "106981               0         0         0         0  \n",
       "77562                0         0         0         0  \n",
       "64911                0         0         0         0  \n",
       "36565                0         0         0         0  \n",
       "26404                0         0         0         0  "
      ]
     },
     "execution_count": 38,
     "metadata": {},
     "output_type": "execute_result"
    }
   ],
   "source": [
    "X_train.head()"
   ]
  },
  {
   "cell_type": "code",
   "execution_count": 39,
   "metadata": {},
   "outputs": [
    {
     "data": {
      "text/plain": [
       "array([[-0.22790129, -0.80693287, -0.54854168],\n",
       "       [-0.09253411, -0.76350202, -0.52437631],\n",
       "       [ 0.07291467,  0.2308076 , -0.52623518],\n",
       "       ...,\n",
       "       [-0.55879885, -1.42857181, -0.55009074],\n",
       "       [ 0.03625741, -1.41333716, -0.40850646],\n",
       "       [-0.39919927,  0.00768011,  0.04134121]])"
      ]
     },
     "execution_count": 39,
     "metadata": {},
     "output_type": "execute_result"
    }
   ],
   "source": [
    "X_tr_transformed"
   ]
  },
  {
   "cell_type": "code",
   "execution_count": 40,
   "metadata": {},
   "outputs": [
    {
     "name": "stderr",
     "output_type": "stream",
     "text": [
      "/Users/srijagannathan/opt/anaconda3/lib/python3.8/site-packages/pandas/core/indexing.py:1736: SettingWithCopyWarning: \n",
      "A value is trying to be set on a copy of a slice from a DataFrame.\n",
      "Try using .loc[row_indexer,col_indexer] = value instead\n",
      "\n",
      "See the caveats in the documentation: https://pandas.pydata.org/pandas-docs/stable/user_guide/indexing.html#returning-a-view-versus-a-copy\n",
      "  isetter(loc, value[:, i].tolist())\n"
     ]
    }
   ],
   "source": [
    "X_test.loc[:, ['kW', 'Overall_Module_efficiency', 'installer_experience']] = X_te_transformed"
   ]
  },
  {
   "cell_type": "code",
   "execution_count": 41,
   "metadata": {},
   "outputs": [
    {
     "data": {
      "text/html": [
       "<div>\n",
       "<style scoped>\n",
       "    .dataframe tbody tr th:only-of-type {\n",
       "        vertical-align: middle;\n",
       "    }\n",
       "\n",
       "    .dataframe tbody tr th {\n",
       "        vertical-align: top;\n",
       "    }\n",
       "\n",
       "    .dataframe thead th {\n",
       "        text-align: right;\n",
       "    }\n",
       "</style>\n",
       "<table border=\"1\" class=\"dataframe\">\n",
       "  <thead>\n",
       "    <tr style=\"text-align: right;\">\n",
       "      <th></th>\n",
       "      <th>kW</th>\n",
       "      <th>new_construction</th>\n",
       "      <th>ground_mounted</th>\n",
       "      <th>DC_optimizer</th>\n",
       "      <th>Overall_Module_efficiency</th>\n",
       "      <th>micro_inverter</th>\n",
       "      <th>installer_experience</th>\n",
       "      <th>Premium_Module</th>\n",
       "      <th>state_FL</th>\n",
       "      <th>state_MA</th>\n",
       "      <th>state_NH</th>\n",
       "    </tr>\n",
       "  </thead>\n",
       "  <tbody>\n",
       "    <tr>\n",
       "      <th>93532</th>\n",
       "      <td>-0.127629</td>\n",
       "      <td>0</td>\n",
       "      <td>0</td>\n",
       "      <td>1</td>\n",
       "      <td>-2.083261</td>\n",
       "      <td>0</td>\n",
       "      <td>-0.548851</td>\n",
       "      <td>0</td>\n",
       "      <td>0</td>\n",
       "      <td>0</td>\n",
       "      <td>0</td>\n",
       "    </tr>\n",
       "    <tr>\n",
       "      <th>175019</th>\n",
       "      <td>-0.304776</td>\n",
       "      <td>0</td>\n",
       "      <td>0</td>\n",
       "      <td>1</td>\n",
       "      <td>0.821078</td>\n",
       "      <td>0</td>\n",
       "      <td>0.687610</td>\n",
       "      <td>1</td>\n",
       "      <td>0</td>\n",
       "      <td>0</td>\n",
       "      <td>0</td>\n",
       "    </tr>\n",
       "    <tr>\n",
       "      <th>52621</th>\n",
       "      <td>0.169844</td>\n",
       "      <td>0</td>\n",
       "      <td>0</td>\n",
       "      <td>0</td>\n",
       "      <td>1.797817</td>\n",
       "      <td>1</td>\n",
       "      <td>0.002924</td>\n",
       "      <td>1</td>\n",
       "      <td>0</td>\n",
       "      <td>0</td>\n",
       "      <td>0</td>\n",
       "    </tr>\n",
       "    <tr>\n",
       "      <th>184169</th>\n",
       "      <td>-0.055768</td>\n",
       "      <td>0</td>\n",
       "      <td>0</td>\n",
       "      <td>0</td>\n",
       "      <td>0.822919</td>\n",
       "      <td>1</td>\n",
       "      <td>-0.441037</td>\n",
       "      <td>1</td>\n",
       "      <td>0</td>\n",
       "      <td>0</td>\n",
       "      <td>0</td>\n",
       "    </tr>\n",
       "    <tr>\n",
       "      <th>144367</th>\n",
       "      <td>0.230007</td>\n",
       "      <td>0</td>\n",
       "      <td>1</td>\n",
       "      <td>0</td>\n",
       "      <td>1.804313</td>\n",
       "      <td>1</td>\n",
       "      <td>-0.548851</td>\n",
       "      <td>1</td>\n",
       "      <td>0</td>\n",
       "      <td>0</td>\n",
       "      <td>0</td>\n",
       "    </tr>\n",
       "  </tbody>\n",
       "</table>\n",
       "</div>"
      ],
      "text/plain": [
       "              kW  new_construction  ground_mounted  DC_optimizer  \\\n",
       "93532  -0.127629                 0               0             1   \n",
       "175019 -0.304776                 0               0             1   \n",
       "52621   0.169844                 0               0             0   \n",
       "184169 -0.055768                 0               0             0   \n",
       "144367  0.230007                 0               1             0   \n",
       "\n",
       "        Overall_Module_efficiency  micro_inverter  installer_experience  \\\n",
       "93532                   -2.083261               0             -0.548851   \n",
       "175019                   0.821078               0              0.687610   \n",
       "52621                    1.797817               1              0.002924   \n",
       "184169                   0.822919               1             -0.441037   \n",
       "144367                   1.804313               1             -0.548851   \n",
       "\n",
       "        Premium_Module  state_FL  state_MA  state_NH  \n",
       "93532                0         0         0         0  \n",
       "175019               1         0         0         0  \n",
       "52621                1         0         0         0  \n",
       "184169               1         0         0         0  \n",
       "144367               1         0         0         0  "
      ]
     },
     "execution_count": 41,
     "metadata": {},
     "output_type": "execute_result"
    }
   ],
   "source": [
    "X_test.head()"
   ]
  },
  {
   "cell_type": "markdown",
   "metadata": {},
   "source": [
    "Start adding models from here.\n",
    "\n",
    "- You have a done a 70 / 30 train test split\n",
    "- You have standardized the data. \n",
    "- Use the Wine regression case study to import the necessary modules and perform regression analysis\n",
    "- Build 3 models\n",
    " - DummyRegressor\n",
    " - LinearRegfression() - use cross validation\n",
    " - sm.OLS() - multilinear regression - use cross validation\n",
    " \n",
    "\n",
    "- Use RandomForest as a model in regression analysis as well. Refer to guided capstone for that. Remember to do hyper parameter turning using GridSearchCV\n",
    "\n",
    " \n",
    " "
   ]
  },
  {
   "cell_type": "code",
   "execution_count": 42,
   "metadata": {},
   "outputs": [],
   "source": [
    "# importing all necessary modules for regression\n",
    "import statsmodels.api as sm # for OLS model\n",
    "from sklearn.metrics import mean_squared_error, r2_score, mean_absolute_error\n",
    "from sklearn.linear_model import LinearRegression # for linear regression model\n",
    "from sklearn.ensemble import RandomForestRegressor # for random forest model\n",
    "\n",
    "from sklearn.model_selection import cross_validate, GridSearchCV # for cross validation and hyper parameter tuning\n",
    "\n",
    "import warnings # for handling error messages\n",
    "\n",
    "warnings.simplefilter(action = \"ignore\", category = FutureWarning)\n",
    "warnings.filterwarnings(action = \"ignore\", module = \"scipy\", message = \"^internal gelsd\")\n",
    "\n"
   ]
  },
  {
   "cell_type": "markdown",
   "metadata": {},
   "source": [
    "## First Regression module using LinearRegression()"
   ]
  },
  {
   "cell_type": "code",
   "execution_count": 43,
   "metadata": {},
   "outputs": [],
   "source": [
    "rModel = LinearRegression()\n",
    "\n"
   ]
  },
  {
   "cell_type": "code",
   "execution_count": 44,
   "metadata": {},
   "outputs": [
    {
     "data": {
      "text/plain": [
       "LinearRegression()"
      ]
     },
     "execution_count": 44,
     "metadata": {},
     "output_type": "execute_result"
    }
   ],
   "source": [
    "#fitting the model to the train data\n",
    "rModel.fit(X_train, y_train)"
   ]
  },
  {
   "cell_type": "code",
   "execution_count": 45,
   "metadata": {},
   "outputs": [
    {
     "name": "stdout",
     "output_type": "stream",
     "text": [
      "0.030939317550342293\n"
     ]
    }
   ],
   "source": [
    "# Evaluating the model\n",
    "print(rModel.score(X_train, y_train))"
   ]
  },
  {
   "cell_type": "code",
   "execution_count": 46,
   "metadata": {},
   "outputs": [],
   "source": [
    "y_pred = rModel.predict(X_test)"
   ]
  },
  {
   "cell_type": "code",
   "execution_count": 47,
   "metadata": {
    "scrolled": true
   },
   "outputs": [
    {
     "data": {
      "text/plain": [
       "Text(0, 0.5, 'Predicted values')"
      ]
     },
     "execution_count": 47,
     "metadata": {},
     "output_type": "execute_result"
    },
    {
     "data": {
      "image/png": "[encoded data removed]",
      "text/plain": [
       "<Figure size 432x288 with 1 Axes>"
      ]
     },
     "metadata": {
      "needs_background": "light"
     },
     "output_type": "display_data"
    }
   ],
   "source": [
    "plt.scatter(y_test, y_pred)\n",
    "plt.xlabel('Actual values')\n",
    "plt.ylabel('Predicted values')"
   ]
  },
  {
   "cell_type": "markdown",
   "metadata": {},
   "source": [
    "The scatter plot above shows that there is a value > 120. Lets have a look at that. "
   ]
  },
  {
   "cell_type": "code",
   "execution_count": 48,
   "metadata": {},
   "outputs": [
    {
     "data": {
      "text/html": [
       "<div>\n",
       "<style scoped>\n",
       "    .dataframe tbody tr th:only-of-type {\n",
       "        vertical-align: middle;\n",
       "    }\n",
       "\n",
       "    .dataframe tbody tr th {\n",
       "        vertical-align: top;\n",
       "    }\n",
       "\n",
       "    .dataframe thead th {\n",
       "        text-align: right;\n",
       "    }\n",
       "</style>\n",
       "<table border=\"1\" class=\"dataframe\">\n",
       "  <thead>\n",
       "    <tr style=\"text-align: right;\">\n",
       "      <th></th>\n",
       "      <th>kW</th>\n",
       "      <th>new_construction</th>\n",
       "      <th>ground_mounted</th>\n",
       "      <th>DC_optimizer</th>\n",
       "      <th>dollar_per_watt</th>\n",
       "      <th>Overall_Module_efficiency</th>\n",
       "      <th>micro_inverter</th>\n",
       "      <th>installer_experience</th>\n",
       "      <th>Premium_Module</th>\n",
       "      <th>state_FL</th>\n",
       "      <th>state_MA</th>\n",
       "      <th>state_NH</th>\n",
       "    </tr>\n",
       "  </thead>\n",
       "  <tbody>\n",
       "    <tr>\n",
       "      <th>31216</th>\n",
       "      <td>0.1804</td>\n",
       "      <td>0</td>\n",
       "      <td>1</td>\n",
       "      <td>0</td>\n",
       "      <td>128.874723</td>\n",
       "      <td>18.449031</td>\n",
       "      <td>1</td>\n",
       "      <td>911</td>\n",
       "      <td>0</td>\n",
       "      <td>0</td>\n",
       "      <td>0</td>\n",
       "      <td>0</td>\n",
       "    </tr>\n",
       "  </tbody>\n",
       "</table>\n",
       "</div>"
      ],
      "text/plain": [
       "           kW  new_construction  ground_mounted  DC_optimizer  \\\n",
       "31216  0.1804                 0               1             0   \n",
       "\n",
       "       dollar_per_watt  Overall_Module_efficiency  micro_inverter  \\\n",
       "31216       128.874723                  18.449031               1   \n",
       "\n",
       "       installer_experience  Premium_Module  state_FL  state_MA  state_NH  \n",
       "31216                   911               0         0         0         0  "
      ]
     },
     "execution_count": 48,
     "metadata": {},
     "output_type": "execute_result"
    }
   ],
   "source": [
    "pv_df2[pv_df2['dollar_per_watt'] > 100]"
   ]
  },
  {
   "cell_type": "code",
   "execution_count": 49,
   "metadata": {},
   "outputs": [
    {
     "data": {
      "text/html": [
       "<div>\n",
       "<style scoped>\n",
       "    .dataframe tbody tr th:only-of-type {\n",
       "        vertical-align: middle;\n",
       "    }\n",
       "\n",
       "    .dataframe tbody tr th {\n",
       "        vertical-align: top;\n",
       "    }\n",
       "\n",
       "    .dataframe thead th {\n",
       "        text-align: right;\n",
       "    }\n",
       "</style>\n",
       "<table border=\"1\" class=\"dataframe\">\n",
       "  <thead>\n",
       "    <tr style=\"text-align: right;\">\n",
       "      <th></th>\n",
       "      <th>kW</th>\n",
       "      <th>new_construction</th>\n",
       "      <th>ground_mounted</th>\n",
       "      <th>DC_optimizer</th>\n",
       "      <th>dollar_per_watt</th>\n",
       "      <th>Overall_Module_efficiency</th>\n",
       "      <th>micro_inverter</th>\n",
       "      <th>installer_experience</th>\n",
       "      <th>Premium_Module</th>\n",
       "      <th>state_FL</th>\n",
       "      <th>state_MA</th>\n",
       "      <th>state_NH</th>\n",
       "    </tr>\n",
       "  </thead>\n",
       "  <tbody>\n",
       "    <tr>\n",
       "      <th>627</th>\n",
       "      <td>0.988531</td>\n",
       "      <td>0</td>\n",
       "      <td>0</td>\n",
       "      <td>0</td>\n",
       "      <td>5.159173</td>\n",
       "      <td>16.561066</td>\n",
       "      <td>1</td>\n",
       "      <td>5</td>\n",
       "      <td>0</td>\n",
       "      <td>0</td>\n",
       "      <td>0</td>\n",
       "      <td>0</td>\n",
       "    </tr>\n",
       "    <tr>\n",
       "      <th>2100</th>\n",
       "      <td>0.988531</td>\n",
       "      <td>0</td>\n",
       "      <td>0</td>\n",
       "      <td>0</td>\n",
       "      <td>6.676576</td>\n",
       "      <td>16.561066</td>\n",
       "      <td>1</td>\n",
       "      <td>15</td>\n",
       "      <td>0</td>\n",
       "      <td>0</td>\n",
       "      <td>0</td>\n",
       "      <td>0</td>\n",
       "    </tr>\n",
       "    <tr>\n",
       "      <th>2229</th>\n",
       "      <td>0.990000</td>\n",
       "      <td>0</td>\n",
       "      <td>0</td>\n",
       "      <td>0</td>\n",
       "      <td>6.573737</td>\n",
       "      <td>20.015721</td>\n",
       "      <td>1</td>\n",
       "      <td>10</td>\n",
       "      <td>1</td>\n",
       "      <td>0</td>\n",
       "      <td>0</td>\n",
       "      <td>0</td>\n",
       "    </tr>\n",
       "    <tr>\n",
       "      <th>2250</th>\n",
       "      <td>0.981000</td>\n",
       "      <td>0</td>\n",
       "      <td>0</td>\n",
       "      <td>0</td>\n",
       "      <td>3.599388</td>\n",
       "      <td>20.052566</td>\n",
       "      <td>1</td>\n",
       "      <td>100</td>\n",
       "      <td>1</td>\n",
       "      <td>0</td>\n",
       "      <td>0</td>\n",
       "      <td>0</td>\n",
       "    </tr>\n",
       "    <tr>\n",
       "      <th>2906</th>\n",
       "      <td>0.988531</td>\n",
       "      <td>0</td>\n",
       "      <td>0</td>\n",
       "      <td>0</td>\n",
       "      <td>5.159173</td>\n",
       "      <td>16.561066</td>\n",
       "      <td>1</td>\n",
       "      <td>25</td>\n",
       "      <td>0</td>\n",
       "      <td>0</td>\n",
       "      <td>0</td>\n",
       "      <td>0</td>\n",
       "    </tr>\n",
       "    <tr>\n",
       "      <th>...</th>\n",
       "      <td>...</td>\n",
       "      <td>...</td>\n",
       "      <td>...</td>\n",
       "      <td>...</td>\n",
       "      <td>...</td>\n",
       "      <td>...</td>\n",
       "      <td>...</td>\n",
       "      <td>...</td>\n",
       "      <td>...</td>\n",
       "      <td>...</td>\n",
       "      <td>...</td>\n",
       "      <td>...</td>\n",
       "    </tr>\n",
       "    <tr>\n",
       "      <th>181794</th>\n",
       "      <td>0.690000</td>\n",
       "      <td>0</td>\n",
       "      <td>0</td>\n",
       "      <td>0</td>\n",
       "      <td>4.452174</td>\n",
       "      <td>21.156377</td>\n",
       "      <td>0</td>\n",
       "      <td>6129</td>\n",
       "      <td>1</td>\n",
       "      <td>0</td>\n",
       "      <td>0</td>\n",
       "      <td>0</td>\n",
       "    </tr>\n",
       "    <tr>\n",
       "      <th>182681</th>\n",
       "      <td>0.405000</td>\n",
       "      <td>0</td>\n",
       "      <td>0</td>\n",
       "      <td>0</td>\n",
       "      <td>2.469136</td>\n",
       "      <td>20.250000</td>\n",
       "      <td>1</td>\n",
       "      <td>36</td>\n",
       "      <td>1</td>\n",
       "      <td>0</td>\n",
       "      <td>0</td>\n",
       "      <td>0</td>\n",
       "    </tr>\n",
       "    <tr>\n",
       "      <th>182993</th>\n",
       "      <td>0.981000</td>\n",
       "      <td>0</td>\n",
       "      <td>0</td>\n",
       "      <td>0</td>\n",
       "      <td>4.587156</td>\n",
       "      <td>20.052566</td>\n",
       "      <td>1</td>\n",
       "      <td>6168</td>\n",
       "      <td>1</td>\n",
       "      <td>0</td>\n",
       "      <td>0</td>\n",
       "      <td>0</td>\n",
       "    </tr>\n",
       "    <tr>\n",
       "      <th>183021</th>\n",
       "      <td>0.990000</td>\n",
       "      <td>0</td>\n",
       "      <td>0</td>\n",
       "      <td>0</td>\n",
       "      <td>5.050505</td>\n",
       "      <td>20.625000</td>\n",
       "      <td>1</td>\n",
       "      <td>6170</td>\n",
       "      <td>1</td>\n",
       "      <td>0</td>\n",
       "      <td>0</td>\n",
       "      <td>0</td>\n",
       "    </tr>\n",
       "    <tr>\n",
       "      <th>184746</th>\n",
       "      <td>0.981000</td>\n",
       "      <td>0</td>\n",
       "      <td>0</td>\n",
       "      <td>0</td>\n",
       "      <td>3.822630</td>\n",
       "      <td>20.052566</td>\n",
       "      <td>1</td>\n",
       "      <td>6238</td>\n",
       "      <td>1</td>\n",
       "      <td>0</td>\n",
       "      <td>0</td>\n",
       "      <td>0</td>\n",
       "    </tr>\n",
       "  </tbody>\n",
       "</table>\n",
       "<p>123 rows × 12 columns</p>\n",
       "</div>"
      ],
      "text/plain": [
       "              kW  new_construction  ground_mounted  DC_optimizer  \\\n",
       "627     0.988531                 0               0             0   \n",
       "2100    0.988531                 0               0             0   \n",
       "2229    0.990000                 0               0             0   \n",
       "2250    0.981000                 0               0             0   \n",
       "2906    0.988531                 0               0             0   \n",
       "...          ...               ...             ...           ...   \n",
       "181794  0.690000                 0               0             0   \n",
       "182681  0.405000                 0               0             0   \n",
       "182993  0.981000                 0               0             0   \n",
       "183021  0.990000                 0               0             0   \n",
       "184746  0.981000                 0               0             0   \n",
       "\n",
       "        dollar_per_watt  Overall_Module_efficiency  micro_inverter  \\\n",
       "627            5.159173                  16.561066               1   \n",
       "2100           6.676576                  16.561066               1   \n",
       "2229           6.573737                  20.015721               1   \n",
       "2250           3.599388                  20.052566               1   \n",
       "2906           5.159173                  16.561066               1   \n",
       "...                 ...                        ...             ...   \n",
       "181794         4.452174                  21.156377               0   \n",
       "182681         2.469136                  20.250000               1   \n",
       "182993         4.587156                  20.052566               1   \n",
       "183021         5.050505                  20.625000               1   \n",
       "184746         3.822630                  20.052566               1   \n",
       "\n",
       "        installer_experience  Premium_Module  state_FL  state_MA  state_NH  \n",
       "627                        5               0         0         0         0  \n",
       "2100                      15               0         0         0         0  \n",
       "2229                      10               1         0         0         0  \n",
       "2250                     100               1         0         0         0  \n",
       "2906                      25               0         0         0         0  \n",
       "...                      ...             ...       ...       ...       ...  \n",
       "181794                  6129               1         0         0         0  \n",
       "182681                    36               1         0         0         0  \n",
       "182993                  6168               1         0         0         0  \n",
       "183021                  6170               1         0         0         0  \n",
       "184746                  6238               1         0         0         0  \n",
       "\n",
       "[123 rows x 12 columns]"
      ]
     },
     "execution_count": 49,
     "metadata": {},
     "output_type": "execute_result"
    }
   ],
   "source": [
    "pv_df2[(pv_df2['kW'] > 0) & (pv_df2['kW'] < 1)]"
   ]
  },
  {
   "cell_type": "markdown",
   "metadata": {},
   "source": [
    "Analyzing the dollar per watt for the points in the scatter plot that have a value greater than 10"
   ]
  },
  {
   "cell_type": "code",
   "execution_count": 50,
   "metadata": {},
   "outputs": [
    {
     "data": {
      "text/html": [
       "<div>\n",
       "<style scoped>\n",
       "    .dataframe tbody tr th:only-of-type {\n",
       "        vertical-align: middle;\n",
       "    }\n",
       "\n",
       "    .dataframe tbody tr th {\n",
       "        vertical-align: top;\n",
       "    }\n",
       "\n",
       "    .dataframe thead th {\n",
       "        text-align: right;\n",
       "    }\n",
       "</style>\n",
       "<table border=\"1\" class=\"dataframe\">\n",
       "  <thead>\n",
       "    <tr style=\"text-align: right;\">\n",
       "      <th></th>\n",
       "      <th>kW</th>\n",
       "      <th>new_construction</th>\n",
       "      <th>ground_mounted</th>\n",
       "      <th>DC_optimizer</th>\n",
       "      <th>dollar_per_watt</th>\n",
       "      <th>Overall_Module_efficiency</th>\n",
       "      <th>micro_inverter</th>\n",
       "      <th>installer_experience</th>\n",
       "      <th>Premium_Module</th>\n",
       "      <th>state_FL</th>\n",
       "      <th>state_MA</th>\n",
       "      <th>state_NH</th>\n",
       "    </tr>\n",
       "  </thead>\n",
       "  <tbody>\n",
       "    <tr>\n",
       "      <th>125</th>\n",
       "      <td>3.52102</td>\n",
       "      <td>0</td>\n",
       "      <td>0</td>\n",
       "      <td>1</td>\n",
       "      <td>10.366314</td>\n",
       "      <td>19.635202</td>\n",
       "      <td>0</td>\n",
       "      <td>1</td>\n",
       "      <td>0</td>\n",
       "      <td>0</td>\n",
       "      <td>0</td>\n",
       "      <td>0</td>\n",
       "    </tr>\n",
       "    <tr>\n",
       "      <th>301</th>\n",
       "      <td>1.65000</td>\n",
       "      <td>0</td>\n",
       "      <td>0</td>\n",
       "      <td>0</td>\n",
       "      <td>10.377576</td>\n",
       "      <td>16.965004</td>\n",
       "      <td>1</td>\n",
       "      <td>1</td>\n",
       "      <td>0</td>\n",
       "      <td>0</td>\n",
       "      <td>0</td>\n",
       "      <td>0</td>\n",
       "    </tr>\n",
       "    <tr>\n",
       "      <th>527</th>\n",
       "      <td>1.68000</td>\n",
       "      <td>0</td>\n",
       "      <td>0</td>\n",
       "      <td>0</td>\n",
       "      <td>18.683333</td>\n",
       "      <td>17.273459</td>\n",
       "      <td>1</td>\n",
       "      <td>3</td>\n",
       "      <td>0</td>\n",
       "      <td>0</td>\n",
       "      <td>0</td>\n",
       "      <td>0</td>\n",
       "    </tr>\n",
       "    <tr>\n",
       "      <th>538</th>\n",
       "      <td>1.68000</td>\n",
       "      <td>0</td>\n",
       "      <td>0</td>\n",
       "      <td>0</td>\n",
       "      <td>10.080952</td>\n",
       "      <td>17.273459</td>\n",
       "      <td>1</td>\n",
       "      <td>4</td>\n",
       "      <td>0</td>\n",
       "      <td>0</td>\n",
       "      <td>0</td>\n",
       "      <td>0</td>\n",
       "    </tr>\n",
       "    <tr>\n",
       "      <th>641</th>\n",
       "      <td>3.30000</td>\n",
       "      <td>0</td>\n",
       "      <td>0</td>\n",
       "      <td>1</td>\n",
       "      <td>10.498848</td>\n",
       "      <td>19.635202</td>\n",
       "      <td>0</td>\n",
       "      <td>1</td>\n",
       "      <td>0</td>\n",
       "      <td>0</td>\n",
       "      <td>1</td>\n",
       "      <td>0</td>\n",
       "    </tr>\n",
       "    <tr>\n",
       "      <th>...</th>\n",
       "      <td>...</td>\n",
       "      <td>...</td>\n",
       "      <td>...</td>\n",
       "      <td>...</td>\n",
       "      <td>...</td>\n",
       "      <td>...</td>\n",
       "      <td>...</td>\n",
       "      <td>...</td>\n",
       "      <td>...</td>\n",
       "      <td>...</td>\n",
       "      <td>...</td>\n",
       "      <td>...</td>\n",
       "    </tr>\n",
       "    <tr>\n",
       "      <th>184121</th>\n",
       "      <td>2.59000</td>\n",
       "      <td>0</td>\n",
       "      <td>0</td>\n",
       "      <td>0</td>\n",
       "      <td>11.447876</td>\n",
       "      <td>22.112259</td>\n",
       "      <td>1</td>\n",
       "      <td>106</td>\n",
       "      <td>1</td>\n",
       "      <td>0</td>\n",
       "      <td>0</td>\n",
       "      <td>0</td>\n",
       "    </tr>\n",
       "    <tr>\n",
       "      <th>184145</th>\n",
       "      <td>4.20000</td>\n",
       "      <td>0</td>\n",
       "      <td>0</td>\n",
       "      <td>1</td>\n",
       "      <td>12.095238</td>\n",
       "      <td>21.228795</td>\n",
       "      <td>0</td>\n",
       "      <td>335</td>\n",
       "      <td>1</td>\n",
       "      <td>0</td>\n",
       "      <td>0</td>\n",
       "      <td>0</td>\n",
       "    </tr>\n",
       "    <tr>\n",
       "      <th>184462</th>\n",
       "      <td>8.88000</td>\n",
       "      <td>0</td>\n",
       "      <td>0</td>\n",
       "      <td>0</td>\n",
       "      <td>31.503378</td>\n",
       "      <td>22.112259</td>\n",
       "      <td>1</td>\n",
       "      <td>39</td>\n",
       "      <td>1</td>\n",
       "      <td>0</td>\n",
       "      <td>0</td>\n",
       "      <td>0</td>\n",
       "    </tr>\n",
       "    <tr>\n",
       "      <th>184743</th>\n",
       "      <td>24.00000</td>\n",
       "      <td>0</td>\n",
       "      <td>0</td>\n",
       "      <td>0</td>\n",
       "      <td>16.355785</td>\n",
       "      <td>17.910875</td>\n",
       "      <td>0</td>\n",
       "      <td>10</td>\n",
       "      <td>0</td>\n",
       "      <td>0</td>\n",
       "      <td>0</td>\n",
       "      <td>0</td>\n",
       "    </tr>\n",
       "    <tr>\n",
       "      <th>184747</th>\n",
       "      <td>2.56000</td>\n",
       "      <td>0</td>\n",
       "      <td>0</td>\n",
       "      <td>1</td>\n",
       "      <td>14.710938</td>\n",
       "      <td>19.623306</td>\n",
       "      <td>0</td>\n",
       "      <td>115</td>\n",
       "      <td>0</td>\n",
       "      <td>0</td>\n",
       "      <td>0</td>\n",
       "      <td>0</td>\n",
       "    </tr>\n",
       "  </tbody>\n",
       "</table>\n",
       "<p>1210 rows × 12 columns</p>\n",
       "</div>"
      ],
      "text/plain": [
       "              kW  new_construction  ground_mounted  DC_optimizer  \\\n",
       "125      3.52102                 0               0             1   \n",
       "301      1.65000                 0               0             0   \n",
       "527      1.68000                 0               0             0   \n",
       "538      1.68000                 0               0             0   \n",
       "641      3.30000                 0               0             1   \n",
       "...          ...               ...             ...           ...   \n",
       "184121   2.59000                 0               0             0   \n",
       "184145   4.20000                 0               0             1   \n",
       "184462   8.88000                 0               0             0   \n",
       "184743  24.00000                 0               0             0   \n",
       "184747   2.56000                 0               0             1   \n",
       "\n",
       "        dollar_per_watt  Overall_Module_efficiency  micro_inverter  \\\n",
       "125           10.366314                  19.635202               0   \n",
       "301           10.377576                  16.965004               1   \n",
       "527           18.683333                  17.273459               1   \n",
       "538           10.080952                  17.273459               1   \n",
       "641           10.498848                  19.635202               0   \n",
       "...                 ...                        ...             ...   \n",
       "184121        11.447876                  22.112259               1   \n",
       "184145        12.095238                  21.228795               0   \n",
       "184462        31.503378                  22.112259               1   \n",
       "184743        16.355785                  17.910875               0   \n",
       "184747        14.710938                  19.623306               0   \n",
       "\n",
       "        installer_experience  Premium_Module  state_FL  state_MA  state_NH  \n",
       "125                        1               0         0         0         0  \n",
       "301                        1               0         0         0         0  \n",
       "527                        3               0         0         0         0  \n",
       "538                        4               0         0         0         0  \n",
       "641                        1               0         0         1         0  \n",
       "...                      ...             ...       ...       ...       ...  \n",
       "184121                   106               1         0         0         0  \n",
       "184145                   335               1         0         0         0  \n",
       "184462                    39               1         0         0         0  \n",
       "184743                    10               0         0         0         0  \n",
       "184747                   115               0         0         0         0  \n",
       "\n",
       "[1210 rows x 12 columns]"
      ]
     },
     "execution_count": 50,
     "metadata": {},
     "output_type": "execute_result"
    }
   ],
   "source": [
    "pv_df2[pv_df2['dollar_per_watt'] > 10]"
   ]
  },
  {
   "cell_type": "markdown",
   "metadata": {},
   "source": [
    "Seems like the more expensive systems also tend to have a bigger system size. Lets do a scater plot of that to see what we get. "
   ]
  },
  {
   "cell_type": "code",
   "execution_count": 51,
   "metadata": {},
   "outputs": [
    {
     "data": {
      "text/plain": [
       "Text(0, 0.5, 'Dollar per Watt')"
      ]
     },
     "execution_count": 51,
     "metadata": {},
     "output_type": "execute_result"
    },
    {
     "data": {
      "image/png": "[encoded data removed]",
      "text/plain": [
       "<Figure size 432x288 with 1 Axes>"
      ]
     },
     "metadata": {
      "needs_background": "light"
     },
     "output_type": "display_data"
    }
   ],
   "source": [
    "plt.scatter(pv_df2['kW'], pv_df2['dollar_per_watt'])\n",
    "plt.xlabel('System size')\n",
    "plt.ylabel('Dollar per Watt')"
   ]
  },
  {
   "cell_type": "markdown",
   "metadata": {},
   "source": [
    "The plot above compels us to look at the data with a fresh perspective. \n",
    "- For lower system sizes( closer to zero) a cost of 80 and 120 seems almost like outliers. We can consider removing those points. \n",
    "- In the initial part of the curve, the cost seems to have a non linear variation with the system size. Hence it will be useful to include a square term of the system size as well. \n",
    "- As the system size increases the cost tends to plateau towards a value between 0 to 10. \n",
    "- For a majority of the system installations the price seems to be fairly constant and in the range of `$0-$10` per watt."
   ]
  },
  {
   "cell_type": "code",
   "execution_count": 52,
   "metadata": {},
   "outputs": [],
   "source": [
    "# removing outliers from the data set\n",
    "pv_df2 = pv_df2[pv_df2['dollar_per_watt'] < 80]"
   ]
  },
  {
   "cell_type": "code",
   "execution_count": 53,
   "metadata": {
    "scrolled": true
   },
   "outputs": [
    {
     "data": {
      "text/plain": [
       "Text(0, 0.5, 'Dollar per Watt')"
      ]
     },
     "execution_count": 53,
     "metadata": {},
     "output_type": "execute_result"
    },
    {
     "data": {
      "image/png": "[encoded data removed]",
      "text/plain": [
       "<Figure size 432x288 with 1 Axes>"
      ]
     },
     "metadata": {
      "needs_background": "light"
     },
     "output_type": "display_data"
    }
   ],
   "source": [
    "plt.scatter(pv_df2['kW'], pv_df2['dollar_per_watt'])\n",
    "plt.xlabel('System size')\n",
    "plt.ylabel('Dollar per Watt')"
   ]
  },
  {
   "cell_type": "code",
   "execution_count": 54,
   "metadata": {},
   "outputs": [],
   "source": [
    "# removing outliers from the data set\n",
    "pv_df2 = pv_df2[pv_df2['dollar_per_watt'] < 70]"
   ]
  },
  {
   "cell_type": "code",
   "execution_count": 55,
   "metadata": {},
   "outputs": [
    {
     "data": {
      "text/plain": [
       "Text(0, 0.5, 'Dollar per Watt')"
      ]
     },
     "execution_count": 55,
     "metadata": {},
     "output_type": "execute_result"
    },
    {
     "data": {
      "image/png": "[encoded data removed]",
      "text/plain": [
       "<Figure size 432x288 with 1 Axes>"
      ]
     },
     "metadata": {
      "needs_background": "light"
     },
     "output_type": "display_data"
    }
   ],
   "source": [
    "plt.scatter(pv_df2['kW'], pv_df2['dollar_per_watt'])\n",
    "plt.xlabel('System size')\n",
    "plt.ylabel('Dollar per Watt')"
   ]
  },
  {
   "cell_type": "code",
   "execution_count": 56,
   "metadata": {},
   "outputs": [],
   "source": [
    "# adding a square term in the data set\n",
    "pv_df2['kW2'] = pv_df2['kW'] **2"
   ]
  },
  {
   "cell_type": "code",
   "execution_count": 57,
   "metadata": {},
   "outputs": [
    {
     "name": "stdout",
     "output_type": "stream",
     "text": [
      "<class 'pandas.core.frame.DataFrame'>\n",
      "Int64Index: 184776 entries, 0 to 184777\n",
      "Data columns (total 13 columns):\n",
      " #   Column                     Non-Null Count   Dtype  \n",
      "---  ------                     --------------   -----  \n",
      " 0   kW                         184776 non-null  float64\n",
      " 1   new_construction           184776 non-null  int64  \n",
      " 2   ground_mounted             184776 non-null  int64  \n",
      " 3   DC_optimizer               184776 non-null  int64  \n",
      " 4   dollar_per_watt            184776 non-null  float64\n",
      " 5   Overall_Module_efficiency  184776 non-null  float64\n",
      " 6   micro_inverter             184776 non-null  int64  \n",
      " 7   installer_experience       184776 non-null  int64  \n",
      " 8   Premium_Module             184776 non-null  int64  \n",
      " 9   state_FL                   184776 non-null  uint8  \n",
      " 10  state_MA                   184776 non-null  uint8  \n",
      " 11  state_NH                   184776 non-null  uint8  \n",
      " 12  kW2                        184776 non-null  float64\n",
      "dtypes: float64(4), int64(6), uint8(3)\n",
      "memory usage: 16.0 MB\n"
     ]
    }
   ],
   "source": [
    "pv_df2.info()"
   ]
  },
  {
   "cell_type": "code",
   "execution_count": 58,
   "metadata": {},
   "outputs": [
    {
     "data": {
      "text/html": [
       "<div>\n",
       "<style scoped>\n",
       "    .dataframe tbody tr th:only-of-type {\n",
       "        vertical-align: middle;\n",
       "    }\n",
       "\n",
       "    .dataframe tbody tr th {\n",
       "        vertical-align: top;\n",
       "    }\n",
       "\n",
       "    .dataframe thead th {\n",
       "        text-align: right;\n",
       "    }\n",
       "</style>\n",
       "<table border=\"1\" class=\"dataframe\">\n",
       "  <thead>\n",
       "    <tr style=\"text-align: right;\">\n",
       "      <th></th>\n",
       "      <th>kW</th>\n",
       "      <th>new_construction</th>\n",
       "      <th>ground_mounted</th>\n",
       "      <th>DC_optimizer</th>\n",
       "      <th>dollar_per_watt</th>\n",
       "      <th>Overall_Module_efficiency</th>\n",
       "      <th>micro_inverter</th>\n",
       "      <th>installer_experience</th>\n",
       "      <th>Premium_Module</th>\n",
       "      <th>state_FL</th>\n",
       "      <th>state_MA</th>\n",
       "      <th>state_NH</th>\n",
       "      <th>kW2</th>\n",
       "    </tr>\n",
       "  </thead>\n",
       "  <tbody>\n",
       "    <tr>\n",
       "      <th>0</th>\n",
       "      <td>10.3700</td>\n",
       "      <td>0</td>\n",
       "      <td>0</td>\n",
       "      <td>1</td>\n",
       "      <td>3.905497</td>\n",
       "      <td>18.711656</td>\n",
       "      <td>0</td>\n",
       "      <td>1</td>\n",
       "      <td>0</td>\n",
       "      <td>0</td>\n",
       "      <td>0</td>\n",
       "      <td>0</td>\n",
       "      <td>107.53690</td>\n",
       "    </tr>\n",
       "    <tr>\n",
       "      <th>1</th>\n",
       "      <td>7.4305</td>\n",
       "      <td>0</td>\n",
       "      <td>0</td>\n",
       "      <td>1</td>\n",
       "      <td>3.950707</td>\n",
       "      <td>16.512247</td>\n",
       "      <td>0</td>\n",
       "      <td>1</td>\n",
       "      <td>0</td>\n",
       "      <td>0</td>\n",
       "      <td>0</td>\n",
       "      <td>0</td>\n",
       "      <td>55.21233</td>\n",
       "    </tr>\n",
       "    <tr>\n",
       "      <th>2</th>\n",
       "      <td>12.6000</td>\n",
       "      <td>0</td>\n",
       "      <td>0</td>\n",
       "      <td>1</td>\n",
       "      <td>4.853175</td>\n",
       "      <td>20.917001</td>\n",
       "      <td>0</td>\n",
       "      <td>1</td>\n",
       "      <td>1</td>\n",
       "      <td>0</td>\n",
       "      <td>0</td>\n",
       "      <td>0</td>\n",
       "      <td>158.76000</td>\n",
       "    </tr>\n",
       "    <tr>\n",
       "      <th>3</th>\n",
       "      <td>5.2800</td>\n",
       "      <td>0</td>\n",
       "      <td>0</td>\n",
       "      <td>1</td>\n",
       "      <td>3.958333</td>\n",
       "      <td>19.710083</td>\n",
       "      <td>0</td>\n",
       "      <td>1</td>\n",
       "      <td>0</td>\n",
       "      <td>0</td>\n",
       "      <td>0</td>\n",
       "      <td>0</td>\n",
       "      <td>27.87840</td>\n",
       "    </tr>\n",
       "    <tr>\n",
       "      <th>4</th>\n",
       "      <td>6.8400</td>\n",
       "      <td>0</td>\n",
       "      <td>0</td>\n",
       "      <td>1</td>\n",
       "      <td>4.991082</td>\n",
       "      <td>17.447199</td>\n",
       "      <td>0</td>\n",
       "      <td>1</td>\n",
       "      <td>0</td>\n",
       "      <td>0</td>\n",
       "      <td>0</td>\n",
       "      <td>0</td>\n",
       "      <td>46.78560</td>\n",
       "    </tr>\n",
       "  </tbody>\n",
       "</table>\n",
       "</div>"
      ],
      "text/plain": [
       "        kW  new_construction  ground_mounted  DC_optimizer  dollar_per_watt  \\\n",
       "0  10.3700                 0               0             1         3.905497   \n",
       "1   7.4305                 0               0             1         3.950707   \n",
       "2  12.6000                 0               0             1         4.853175   \n",
       "3   5.2800                 0               0             1         3.958333   \n",
       "4   6.8400                 0               0             1         4.991082   \n",
       "\n",
       "   Overall_Module_efficiency  micro_inverter  installer_experience  \\\n",
       "0                  18.711656               0                     1   \n",
       "1                  16.512247               0                     1   \n",
       "2                  20.917001               0                     1   \n",
       "3                  19.710083               0                     1   \n",
       "4                  17.447199               0                     1   \n",
       "\n",
       "   Premium_Module  state_FL  state_MA  state_NH        kW2  \n",
       "0               0         0         0         0  107.53690  \n",
       "1               0         0         0         0   55.21233  \n",
       "2               1         0         0         0  158.76000  \n",
       "3               0         0         0         0   27.87840  \n",
       "4               0         0         0         0   46.78560  "
      ]
     },
     "execution_count": 58,
     "metadata": {},
     "output_type": "execute_result"
    }
   ],
   "source": [
    "pv_df2.head()"
   ]
  },
  {
   "cell_type": "code",
   "execution_count": 59,
   "metadata": {},
   "outputs": [],
   "source": [
    "# re-iterating the steps for the train test split and standardization\n",
    "X = pv_df2.drop(columns = 'dollar_per_watt', axis = 1)\n",
    "y = pv_df2['dollar_per_watt']"
   ]
  },
  {
   "cell_type": "code",
   "execution_count": 60,
   "metadata": {},
   "outputs": [
    {
     "data": {
      "text/html": [
       "<div>\n",
       "<style scoped>\n",
       "    .dataframe tbody tr th:only-of-type {\n",
       "        vertical-align: middle;\n",
       "    }\n",
       "\n",
       "    .dataframe tbody tr th {\n",
       "        vertical-align: top;\n",
       "    }\n",
       "\n",
       "    .dataframe thead th {\n",
       "        text-align: right;\n",
       "    }\n",
       "</style>\n",
       "<table border=\"1\" class=\"dataframe\">\n",
       "  <thead>\n",
       "    <tr style=\"text-align: right;\">\n",
       "      <th></th>\n",
       "      <th>kW</th>\n",
       "      <th>new_construction</th>\n",
       "      <th>ground_mounted</th>\n",
       "      <th>DC_optimizer</th>\n",
       "      <th>Overall_Module_efficiency</th>\n",
       "      <th>micro_inverter</th>\n",
       "      <th>installer_experience</th>\n",
       "      <th>Premium_Module</th>\n",
       "      <th>state_FL</th>\n",
       "      <th>state_MA</th>\n",
       "      <th>state_NH</th>\n",
       "      <th>kW2</th>\n",
       "    </tr>\n",
       "  </thead>\n",
       "  <tbody>\n",
       "    <tr>\n",
       "      <th>0</th>\n",
       "      <td>10.3700</td>\n",
       "      <td>0</td>\n",
       "      <td>0</td>\n",
       "      <td>1</td>\n",
       "      <td>18.711656</td>\n",
       "      <td>0</td>\n",
       "      <td>1</td>\n",
       "      <td>0</td>\n",
       "      <td>0</td>\n",
       "      <td>0</td>\n",
       "      <td>0</td>\n",
       "      <td>107.53690</td>\n",
       "    </tr>\n",
       "    <tr>\n",
       "      <th>1</th>\n",
       "      <td>7.4305</td>\n",
       "      <td>0</td>\n",
       "      <td>0</td>\n",
       "      <td>1</td>\n",
       "      <td>16.512247</td>\n",
       "      <td>0</td>\n",
       "      <td>1</td>\n",
       "      <td>0</td>\n",
       "      <td>0</td>\n",
       "      <td>0</td>\n",
       "      <td>0</td>\n",
       "      <td>55.21233</td>\n",
       "    </tr>\n",
       "    <tr>\n",
       "      <th>2</th>\n",
       "      <td>12.6000</td>\n",
       "      <td>0</td>\n",
       "      <td>0</td>\n",
       "      <td>1</td>\n",
       "      <td>20.917001</td>\n",
       "      <td>0</td>\n",
       "      <td>1</td>\n",
       "      <td>1</td>\n",
       "      <td>0</td>\n",
       "      <td>0</td>\n",
       "      <td>0</td>\n",
       "      <td>158.76000</td>\n",
       "    </tr>\n",
       "    <tr>\n",
       "      <th>3</th>\n",
       "      <td>5.2800</td>\n",
       "      <td>0</td>\n",
       "      <td>0</td>\n",
       "      <td>1</td>\n",
       "      <td>19.710083</td>\n",
       "      <td>0</td>\n",
       "      <td>1</td>\n",
       "      <td>0</td>\n",
       "      <td>0</td>\n",
       "      <td>0</td>\n",
       "      <td>0</td>\n",
       "      <td>27.87840</td>\n",
       "    </tr>\n",
       "    <tr>\n",
       "      <th>4</th>\n",
       "      <td>6.8400</td>\n",
       "      <td>0</td>\n",
       "      <td>0</td>\n",
       "      <td>1</td>\n",
       "      <td>17.447199</td>\n",
       "      <td>0</td>\n",
       "      <td>1</td>\n",
       "      <td>0</td>\n",
       "      <td>0</td>\n",
       "      <td>0</td>\n",
       "      <td>0</td>\n",
       "      <td>46.78560</td>\n",
       "    </tr>\n",
       "  </tbody>\n",
       "</table>\n",
       "</div>"
      ],
      "text/plain": [
       "        kW  new_construction  ground_mounted  DC_optimizer  \\\n",
       "0  10.3700                 0               0             1   \n",
       "1   7.4305                 0               0             1   \n",
       "2  12.6000                 0               0             1   \n",
       "3   5.2800                 0               0             1   \n",
       "4   6.8400                 0               0             1   \n",
       "\n",
       "   Overall_Module_efficiency  micro_inverter  installer_experience  \\\n",
       "0                  18.711656               0                     1   \n",
       "1                  16.512247               0                     1   \n",
       "2                  20.917001               0                     1   \n",
       "3                  19.710083               0                     1   \n",
       "4                  17.447199               0                     1   \n",
       "\n",
       "   Premium_Module  state_FL  state_MA  state_NH        kW2  \n",
       "0               0         0         0         0  107.53690  \n",
       "1               0         0         0         0   55.21233  \n",
       "2               1         0         0         0  158.76000  \n",
       "3               0         0         0         0   27.87840  \n",
       "4               0         0         0         0   46.78560  "
      ]
     },
     "execution_count": 60,
     "metadata": {},
     "output_type": "execute_result"
    }
   ],
   "source": [
    "X.head()"
   ]
  },
  {
   "cell_type": "code",
   "execution_count": 61,
   "metadata": {},
   "outputs": [],
   "source": [
    "X_train, X_test, y_train, y_test = train_test_split(X, y, test_size = 0.3, random_state = 123)"
   ]
  },
  {
   "cell_type": "markdown",
   "metadata": {},
   "source": [
    "The first model we will test is the dummy regressor. The Dummy Regressor will try to see good of a fit is the mean to the data. "
   ]
  },
  {
   "cell_type": "code",
   "execution_count": 62,
   "metadata": {},
   "outputs": [],
   "source": [
    "# importing the Dummy Regressor module\n",
    "from sklearn.dummy import DummyRegressor"
   ]
  },
  {
   "cell_type": "code",
   "execution_count": 63,
   "metadata": {},
   "outputs": [
    {
     "name": "stdout",
     "output_type": "stream",
     "text": [
      "<class 'pandas.core.frame.DataFrame'>\n",
      "Int64Index: 129343 entries, 82851 to 15725\n",
      "Data columns (total 12 columns):\n",
      " #   Column                     Non-Null Count   Dtype  \n",
      "---  ------                     --------------   -----  \n",
      " 0   kW                         129343 non-null  float64\n",
      " 1   new_construction           129343 non-null  int64  \n",
      " 2   ground_mounted             129343 non-null  int64  \n",
      " 3   DC_optimizer               129343 non-null  int64  \n",
      " 4   Overall_Module_efficiency  129343 non-null  float64\n",
      " 5   micro_inverter             129343 non-null  int64  \n",
      " 6   installer_experience       129343 non-null  int64  \n",
      " 7   Premium_Module             129343 non-null  int64  \n",
      " 8   state_FL                   129343 non-null  uint8  \n",
      " 9   state_MA                   129343 non-null  uint8  \n",
      " 10  state_NH                   129343 non-null  uint8  \n",
      " 11  kW2                        129343 non-null  float64\n",
      "dtypes: float64(3), int64(6), uint8(3)\n",
      "memory usage: 10.2 MB\n"
     ]
    }
   ],
   "source": [
    "X_train.info()"
   ]
  },
  {
   "cell_type": "markdown",
   "metadata": {},
   "source": [
    "Given that all the fields in the data set are either int or float, we can go ahead and do a Dummy Regressor"
   ]
  },
  {
   "cell_type": "code",
   "execution_count": 64,
   "metadata": {},
   "outputs": [
    {
     "data": {
      "text/plain": [
       "4.113054173305983"
      ]
     },
     "execution_count": 64,
     "metadata": {},
     "output_type": "execute_result"
    }
   ],
   "source": [
    "train_mean = y_train.mean()\n",
    "train_mean"
   ]
  },
  {
   "cell_type": "code",
   "execution_count": 65,
   "metadata": {},
   "outputs": [
    {
     "data": {
      "text/plain": [
       "array([[4.11305417]])"
      ]
     },
     "execution_count": 65,
     "metadata": {},
     "output_type": "execute_result"
    }
   ],
   "source": [
    "# Fitting a dummy regressor to the training data set\n",
    "dumb_reg = DummyRegressor(strategy = 'mean')\n",
    "dumb_reg.fit(X_train, y_train)\n",
    "dumb_reg.constant_"
   ]
  },
  {
   "cell_type": "markdown",
   "metadata": {},
   "source": [
    "Evaluting the metrics on this model"
   ]
  },
  {
   "cell_type": "code",
   "execution_count": 66,
   "metadata": {},
   "outputs": [
    {
     "data": {
      "text/plain": [
       "array([4.11305417, 4.11305417, 4.11305417, 4.11305417, 4.11305417])"
      ]
     },
     "execution_count": 66,
     "metadata": {},
     "output_type": "execute_result"
    }
   ],
   "source": [
    "# fitst we predict the y from the model we just fit\n",
    "y_tr_pred = dumb_reg.predict(X_train)\n",
    "y_tr_pred[:5]"
   ]
  },
  {
   "cell_type": "markdown",
   "metadata": {},
   "source": [
    "The Dummy Regressor basically predicts the output of every row in the test set to be the mean. We will now see how good of a fit is this model through evaulation metrics"
   ]
  },
  {
   "cell_type": "code",
   "execution_count": 67,
   "metadata": {},
   "outputs": [
    {
     "data": {
      "text/plain": [
       "0.0"
      ]
     },
     "execution_count": 67,
     "metadata": {},
     "output_type": "execute_result"
    }
   ],
   "source": [
    "# r2_score\n",
    "r2_score(y_train, y_tr_pred)"
   ]
  },
  {
   "cell_type": "code",
   "execution_count": 68,
   "metadata": {},
   "outputs": [
    {
     "data": {
      "text/plain": [
       "-6.819575928407318e-06"
      ]
     },
     "execution_count": 68,
     "metadata": {},
     "output_type": "execute_result"
    }
   ],
   "source": [
    "# evaluating dummy regressor for the test data set\n",
    "y_te_pred = train_mean * np.ones(len(y_test))\n",
    "r2_score(y_test, y_te_pred)"
   ]
  },
  {
   "cell_type": "code",
   "execution_count": 69,
   "metadata": {},
   "outputs": [
    {
     "data": {
      "text/plain": [
       "(0.9490989230457746, 0.945867731507576)"
      ]
     },
     "execution_count": 69,
     "metadata": {},
     "output_type": "execute_result"
    }
   ],
   "source": [
    "# using the MAE as the metric\n",
    "mean_absolute_error(y_train, y_tr_pred), mean_absolute_error(y_test, y_te_pred)"
   ]
  },
  {
   "cell_type": "code",
   "execution_count": 70,
   "metadata": {},
   "outputs": [
    {
     "data": {
      "text/plain": [
       "(2.9570179977289985, 2.936545553297205)"
      ]
     },
     "execution_count": 70,
     "metadata": {},
     "output_type": "execute_result"
    }
   ],
   "source": [
    "mean_squared_error(y_train, y_tr_pred), mean_squared_error(y_test, y_te_pred)"
   ]
  },
  {
   "cell_type": "markdown",
   "metadata": {},
   "source": [
    "Moving forward we will evaluate the performance of a Linear Regressor model"
   ]
  },
  {
   "cell_type": "code",
   "execution_count": 71,
   "metadata": {},
   "outputs": [],
   "source": [
    "# making a pipeline\n",
    "from sklearn.pipeline import make_pipeline\n",
    "pipe = make_pipeline(StandardScaler(), \n",
    "                    LinearRegression()\n",
    "                    )"
   ]
  },
  {
   "cell_type": "code",
   "execution_count": 72,
   "metadata": {},
   "outputs": [
    {
     "data": {
      "text/plain": [
       "Pipeline(steps=[('standardscaler', StandardScaler()),\n",
       "                ('linearregression', LinearRegression())])"
      ]
     },
     "execution_count": 72,
     "metadata": {},
     "output_type": "execute_result"
    }
   ],
   "source": [
    "pipe.fit(X_train, y_train)"
   ]
  },
  {
   "cell_type": "code",
   "execution_count": 73,
   "metadata": {},
   "outputs": [],
   "source": [
    "y_tr_pred = pipe.predict(X_train)\n",
    "y_te_pred = pipe.predict(X_test)"
   ]
  },
  {
   "cell_type": "code",
   "execution_count": 74,
   "metadata": {},
   "outputs": [
    {
     "data": {
      "text/plain": [
       "(0.044712828561916496, 0.041829572858623654)"
      ]
     },
     "execution_count": 74,
     "metadata": {},
     "output_type": "execute_result"
    }
   ],
   "source": [
    "r2_score(y_train, y_tr_pred), r2_score(y_test, y_te_pred)"
   ]
  },
  {
   "cell_type": "code",
   "execution_count": 75,
   "metadata": {},
   "outputs": [
    {
     "data": {
      "text/plain": [
       "0.888813332809098"
      ]
     },
     "execution_count": 75,
     "metadata": {},
     "output_type": "execute_result"
    }
   ],
   "source": [
    "mean_absolute_error(y_test, y_te_pred)"
   ]
  },
  {
   "cell_type": "code",
   "execution_count": 76,
   "metadata": {},
   "outputs": [
    {
     "data": {
      "text/plain": [
       "2.8136919189372125"
      ]
     },
     "execution_count": 76,
     "metadata": {},
     "output_type": "execute_result"
    }
   ],
   "source": [
    "mean_squared_error(y_test, y_te_pred)"
   ]
  },
  {
   "cell_type": "code",
   "execution_count": 77,
   "metadata": {},
   "outputs": [
    {
     "data": {
      "text/plain": [
       "Text(0, 0.5, 'Predicted values')"
      ]
     },
     "execution_count": 77,
     "metadata": {},
     "output_type": "execute_result"
    },
    {
     "data": {
      "image/png": "[encoded data removed]",
      "text/plain": [
       "<Figure size 432x288 with 1 Axes>"
      ]
     },
     "metadata": {
      "needs_background": "light"
     },
     "output_type": "display_data"
    }
   ],
   "source": [
    "plt.scatter(y_test, y_te_pred)\n",
    "plt.xlabel('Actual values')\n",
    "plt.ylabel('Predicted values')"
   ]
  },
  {
   "cell_type": "markdown",
   "metadata": {},
   "source": [
    "Analyzing the model with k best features"
   ]
  },
  {
   "cell_type": "code",
   "execution_count": 78,
   "metadata": {},
   "outputs": [
    {
     "data": {
      "text/plain": [
       "Pipeline(steps=[('standardscaler', StandardScaler()),\n",
       "                ('selectkbest',\n",
       "                 SelectKBest(score_func=<function f_regression at 0x7f80c84c01f0>)),\n",
       "                ('linearregression', LinearRegression())])"
      ]
     },
     "execution_count": 78,
     "metadata": {},
     "output_type": "execute_result"
    }
   ],
   "source": [
    "# importing K best features\n",
    "from sklearn.feature_selection import SelectKBest, f_regression\n",
    "\n",
    "# making a pipeline using K Best features\n",
    "pipe1 = make_pipeline(StandardScaler(), \n",
    "                     SelectKBest(f_regression),\n",
    "                     LinearRegression()\n",
    "                     )\n",
    "\n",
    "pipe1.fit(X_train, y_train)"
   ]
  },
  {
   "cell_type": "code",
   "execution_count": 79,
   "metadata": {},
   "outputs": [],
   "source": [
    "y_tr_pred = pipe1.predict(X_train)\n",
    "y_te_pred = pipe1.predict(X_test)"
   ]
  },
  {
   "cell_type": "code",
   "execution_count": 80,
   "metadata": {},
   "outputs": [
    {
     "data": {
      "text/plain": [
       "(0.042976397727498505, 0.040768280527985534)"
      ]
     },
     "execution_count": 80,
     "metadata": {},
     "output_type": "execute_result"
    }
   ],
   "source": [
    "r2_score(y_train, y_tr_pred), r2_score(y_test, y_te_pred)"
   ]
  },
  {
   "cell_type": "markdown",
   "metadata": {},
   "source": [
    "The model performance of this model is worse than before. Here however K best defaults to 10. \n",
    "Trying next assessing model performance using cross validation. We will assess the performance of the first pipeline model that includes all features. "
   ]
  },
  {
   "cell_type": "code",
   "execution_count": 81,
   "metadata": {},
   "outputs": [],
   "source": [
    "# importing cross validation and then assessing performance\n",
    "from sklearn.model_selection import cross_validate\n",
    "cv_results = cross_validate(pipe, X_train, y_train, cv = 5)"
   ]
  },
  {
   "cell_type": "code",
   "execution_count": 82,
   "metadata": {},
   "outputs": [
    {
     "data": {
      "text/plain": [
       "array([0.04370594, 0.04717901, 0.04655195, 0.04604088, 0.03832396])"
      ]
     },
     "execution_count": 82,
     "metadata": {},
     "output_type": "execute_result"
    }
   ],
   "source": [
    "cv_scores = cv_results['test_score']\n",
    "cv_scores"
   ]
  },
  {
   "cell_type": "markdown",
   "metadata": {},
   "source": [
    "Cross validartion shows that the best we get is a value of 0.047. \n",
    "\n",
    "Next we will assess performance using Grid Search CV. We will tune the hyper parameter of k used as a part of the k best features.\n"
   ]
  },
  {
   "cell_type": "code",
   "execution_count": 83,
   "metadata": {},
   "outputs": [],
   "source": [
    "k = [k + 1 for k in range(len(X_train.columns))]\n",
    "grid_params = {'selectkbest__k' : k}"
   ]
  },
  {
   "cell_type": "code",
   "execution_count": 84,
   "metadata": {},
   "outputs": [],
   "source": [
    "lr_grid_cv = GridSearchCV(pipe1, param_grid = grid_params, cv = 5, n_jobs = -1)"
   ]
  },
  {
   "cell_type": "code",
   "execution_count": 85,
   "metadata": {},
   "outputs": [
    {
     "name": "stderr",
     "output_type": "stream",
     "text": [
      "/Users/srijagannathan/opt/anaconda3/lib/python3.8/site-packages/joblib/externals/loky/process_executor.py:688: UserWarning: A worker stopped while some jobs were given to the executor. This can be caused by a too short worker timeout or by a memory leak.\n",
      "  warnings.warn(\n"
     ]
    },
    {
     "data": {
      "text/plain": [
       "GridSearchCV(cv=5,\n",
       "             estimator=Pipeline(steps=[('standardscaler', StandardScaler()),\n",
       "                                       ('selectkbest',\n",
       "                                        SelectKBest(score_func=<function f_regression at 0x7f80c84c01f0>)),\n",
       "                                       ('linearregression',\n",
       "                                        LinearRegression())]),\n",
       "             n_jobs=-1,\n",
       "             param_grid={'selectkbest__k': [1, 2, 3, 4, 5, 6, 7, 8, 9, 10, 11,\n",
       "                                            12]})"
      ]
     },
     "execution_count": 85,
     "metadata": {},
     "output_type": "execute_result"
    }
   ],
   "source": [
    "lr_grid_cv.fit(X_train, y_train)"
   ]
  },
  {
   "cell_type": "code",
   "execution_count": 86,
   "metadata": {},
   "outputs": [
    {
     "data": {
      "text/plain": [
       "array([0.01816966, 0.02969171, 0.04149497, 0.041689  , 0.04215155,\n",
       "       0.0422691 , 0.04228606, 0.04266639, 0.04276142, 0.04355997,\n",
       "       0.04369432, 0.04436035])"
      ]
     },
     "execution_count": 86,
     "metadata": {},
     "output_type": "execute_result"
    }
   ],
   "source": [
    "score_mean = lr_grid_cv.cv_results_['mean_test_score']\n",
    "score_mean"
   ]
  },
  {
   "cell_type": "code",
   "execution_count": 87,
   "metadata": {},
   "outputs": [
    {
     "data": {
      "text/plain": [
       "{'selectkbest__k': 12}"
      ]
     },
     "execution_count": 87,
     "metadata": {},
     "output_type": "execute_result"
    }
   ],
   "source": [
    "lr_grid_cv.best_params_"
   ]
  },
  {
   "cell_type": "code",
   "execution_count": 88,
   "metadata": {},
   "outputs": [
    {
     "data": {
      "text/plain": [
       "Text(0.5, 1.0, 'Pipeline mean CV score (error bars + / - 1sd)')"
      ]
     },
     "execution_count": 88,
     "metadata": {},
     "output_type": "execute_result"
    },
    {
     "data": {
      "image/png": "[encoded data removed]",
      "text/plain": [
       "<Figure size 720x360 with 1 Axes>"
      ]
     },
     "metadata": {
      "needs_background": "light"
     },
     "output_type": "display_data"
    }
   ],
   "source": [
    "cv_k = [k for k in lr_grid_cv.cv_results_['param_selectkbest__k']]\n",
    "score_std = lr_grid_cv.cv_results_['std_test_score']\n",
    "best_k = lr_grid_cv.best_params_['selectkbest__k']\n",
    "\n",
    "# plotting cross validation scores as a variation of k best features in the grid search CV model\n",
    "plt.subplots(figsize = (10, 5))\n",
    "plt.errorbar(cv_k, score_mean, yerr = score_std)\n",
    "plt.axvline(x = best_k, c= 'r', ls = '--', alpha = 0.5)\n",
    "plt.xlabel('k')\n",
    "plt.ylabel('CV score (r-squared)')\n",
    "plt.title('Pipeline mean CV score (error bars + / - 1sd)')"
   ]
  },
  {
   "cell_type": "markdown",
   "metadata": {},
   "source": [
    "Since k = 12 we can conclude that all features were useful. Next we will look at the coefficients of the linear model"
   ]
  },
  {
   "cell_type": "code",
   "execution_count": 89,
   "metadata": {},
   "outputs": [
    {
     "data": {
      "text/plain": [
       "kW2                          0.419280\n",
       "installer_experience         0.158507\n",
       "ground_mounted               0.056695\n",
       "state_MA                    -0.003163\n",
       "Premium_Module              -0.008835\n",
       "Overall_Module_efficiency   -0.009491\n",
       "state_NH                    -0.011452\n",
       "state_FL                    -0.018623\n",
       "new_construction            -0.049314\n",
       "DC_optimizer                -0.053560\n",
       "micro_inverter              -0.068235\n",
       "kW                          -0.605720\n",
       "dtype: float64"
      ]
     },
     "execution_count": 89,
     "metadata": {},
     "output_type": "execute_result"
    }
   ],
   "source": [
    "coefs = lr_grid_cv.best_estimator_.named_steps.linearregression.coef_\n",
    "features = X_train.columns\n",
    "pd.Series(coefs, index = features).sort_values(ascending = False)"
   ]
  },
  {
   "cell_type": "markdown",
   "metadata": {},
   "source": [
    "The model analysis above shows that the squared of kw, installer experience, and ground mounting of a system have a positive efect on the price. Hence the dollar per watt will increase with an increase in any of these values. Likewise more efficient the module lower the price of per kW of solar energy. Similary having technologies such as DC_optimizers and micro_inverters has reduced the price. This might be a little counter-intuitive as Mofdule level power electronics has an initial higher cost due to more hardware. It can be that over time the savings offset the costs. Likewise an increase in module efficiency tends to reduce the cost which makes sense. \n",
    "\n",
    "While the above model has an r2 score 0f 0.04, future analysis can be done to try and improve on the model performance by probaly adding more feaures into the dataset.That might help in explaining more of the price variance. The above scores essentially shows that the given features in the data set explain about 4 % of the price variance."
   ]
  },
  {
   "cell_type": "code",
   "execution_count": 90,
   "metadata": {},
   "outputs": [
    {
     "data": {
      "image/png": "[encoded data removed]",
      "text/plain": [
       "<Figure size 432x288 with 1 Axes>"
      ]
     },
     "metadata": {
      "needs_background": "light"
     },
     "output_type": "display_data"
    }
   ],
   "source": [
    "residual  = y_te_pred - y_test\n",
    "plt.hist(residual[residual > -10], bins = 30);"
   ]
  },
  {
   "cell_type": "code",
   "execution_count": 93,
   "metadata": {},
   "outputs": [
    {
     "data": {
      "text/plain": [
       "0.040768280527985534"
      ]
     },
     "execution_count": 93,
     "metadata": {},
     "output_type": "execute_result"
    }
   ],
   "source": [
    "r2_score(y_test, y_te_pred)"
   ]
  },
  {
   "cell_type": "markdown",
   "metadata": {},
   "source": [
    "Re- building another model without standardizing- "
   ]
  },
  {
   "cell_type": "code",
   "execution_count": 94,
   "metadata": {},
   "outputs": [],
   "source": [
    "X_train, x_test, y_train, y_test = train_test_split(X, y, test_size = 0.3, random_state = 123)"
   ]
  },
  {
   "cell_type": "code",
   "execution_count": 95,
   "metadata": {},
   "outputs": [
    {
     "data": {
      "text/plain": [
       "GridSearchCV(cv=5, estimator=LinearRegression(),\n",
       "             param_grid={'copy_X': [True, False],\n",
       "                         'fit_intercept': [True, False],\n",
       "                         'normalize': [True, False]})"
      ]
     },
     "execution_count": 95,
     "metadata": {},
     "output_type": "execute_result"
    }
   ],
   "source": [
    "rModel = LinearRegression()\n",
    "grid_params = {'fit_intercept' : [True, False], 'normalize': [True, False], 'copy_X' : [True, False]}\n",
    "gridModel = GridSearchCV(rModel, param_grid = grid_params, cv = 5)\n",
    "gridModel.fit(X_train, y_train)"
   ]
  },
  {
   "cell_type": "code",
   "execution_count": 96,
   "metadata": {},
   "outputs": [
    {
     "name": "stdout",
     "output_type": "stream",
     "text": [
      "0.04436034675231051\n"
     ]
    }
   ],
   "source": [
    "print(gridModel.best_score_)"
   ]
  },
  {
   "cell_type": "code",
   "execution_count": 97,
   "metadata": {},
   "outputs": [
    {
     "data": {
      "text/html": [
       "<div>\n",
       "<style scoped>\n",
       "    .dataframe tbody tr th:only-of-type {\n",
       "        vertical-align: middle;\n",
       "    }\n",
       "\n",
       "    .dataframe tbody tr th {\n",
       "        vertical-align: top;\n",
       "    }\n",
       "\n",
       "    .dataframe thead th {\n",
       "        text-align: right;\n",
       "    }\n",
       "</style>\n",
       "<table border=\"1\" class=\"dataframe\">\n",
       "  <thead>\n",
       "    <tr style=\"text-align: right;\">\n",
       "      <th></th>\n",
       "      <th>kW</th>\n",
       "      <th>new_construction</th>\n",
       "      <th>ground_mounted</th>\n",
       "      <th>DC_optimizer</th>\n",
       "      <th>Overall_Module_efficiency</th>\n",
       "      <th>micro_inverter</th>\n",
       "      <th>installer_experience</th>\n",
       "      <th>Premium_Module</th>\n",
       "      <th>state_FL</th>\n",
       "      <th>state_MA</th>\n",
       "      <th>state_NH</th>\n",
       "      <th>kW2</th>\n",
       "    </tr>\n",
       "  </thead>\n",
       "  <tbody>\n",
       "    <tr>\n",
       "      <th>82851</th>\n",
       "      <td>6.785</td>\n",
       "      <td>0</td>\n",
       "      <td>0</td>\n",
       "      <td>1</td>\n",
       "      <td>18.169500</td>\n",
       "      <td>0</td>\n",
       "      <td>69</td>\n",
       "      <td>0</td>\n",
       "      <td>0</td>\n",
       "      <td>0</td>\n",
       "      <td>0</td>\n",
       "      <td>46.036225</td>\n",
       "    </tr>\n",
       "    <tr>\n",
       "      <th>106983</th>\n",
       "      <td>5.760</td>\n",
       "      <td>0</td>\n",
       "      <td>0</td>\n",
       "      <td>0</td>\n",
       "      <td>21.514630</td>\n",
       "      <td>1</td>\n",
       "      <td>143</td>\n",
       "      <td>1</td>\n",
       "      <td>0</td>\n",
       "      <td>0</td>\n",
       "      <td>0</td>\n",
       "      <td>33.177600</td>\n",
       "    </tr>\n",
       "    <tr>\n",
       "      <th>77563</th>\n",
       "      <td>10.695</td>\n",
       "      <td>0</td>\n",
       "      <td>0</td>\n",
       "      <td>0</td>\n",
       "      <td>21.156377</td>\n",
       "      <td>1</td>\n",
       "      <td>231</td>\n",
       "      <td>1</td>\n",
       "      <td>0</td>\n",
       "      <td>0</td>\n",
       "      <td>0</td>\n",
       "      <td>114.383025</td>\n",
       "    </tr>\n",
       "    <tr>\n",
       "      <th>64912</th>\n",
       "      <td>4.680</td>\n",
       "      <td>0</td>\n",
       "      <td>0</td>\n",
       "      <td>1</td>\n",
       "      <td>18.404155</td>\n",
       "      <td>0</td>\n",
       "      <td>347</td>\n",
       "      <td>0</td>\n",
       "      <td>0</td>\n",
       "      <td>0</td>\n",
       "      <td>0</td>\n",
       "      <td>21.902400</td>\n",
       "    </tr>\n",
       "    <tr>\n",
       "      <th>36566</th>\n",
       "      <td>9.570</td>\n",
       "      <td>0</td>\n",
       "      <td>0</td>\n",
       "      <td>1</td>\n",
       "      <td>17.313846</td>\n",
       "      <td>0</td>\n",
       "      <td>48</td>\n",
       "      <td>0</td>\n",
       "      <td>0</td>\n",
       "      <td>0</td>\n",
       "      <td>0</td>\n",
       "      <td>91.584900</td>\n",
       "    </tr>\n",
       "  </tbody>\n",
       "</table>\n",
       "</div>"
      ],
      "text/plain": [
       "            kW  new_construction  ground_mounted  DC_optimizer  \\\n",
       "82851    6.785                 0               0             1   \n",
       "106983   5.760                 0               0             0   \n",
       "77563   10.695                 0               0             0   \n",
       "64912    4.680                 0               0             1   \n",
       "36566    9.570                 0               0             1   \n",
       "\n",
       "        Overall_Module_efficiency  micro_inverter  installer_experience  \\\n",
       "82851                   18.169500               0                    69   \n",
       "106983                  21.514630               1                   143   \n",
       "77563                   21.156377               1                   231   \n",
       "64912                   18.404155               0                   347   \n",
       "36566                   17.313846               0                    48   \n",
       "\n",
       "        Premium_Module  state_FL  state_MA  state_NH         kW2  \n",
       "82851                0         0         0         0   46.036225  \n",
       "106983               1         0         0         0   33.177600  \n",
       "77563                1         0         0         0  114.383025  \n",
       "64912                0         0         0         0   21.902400  \n",
       "36566                0         0         0         0   91.584900  "
      ]
     },
     "execution_count": 97,
     "metadata": {},
     "output_type": "execute_result"
    }
   ],
   "source": [
    "X_train.head()"
   ]
  },
  {
   "cell_type": "markdown",
   "metadata": {},
   "source": [
    "### Analyzing performance usinga Random Forest Model"
   ]
  },
  {
   "cell_type": "code",
   "execution_count": 98,
   "metadata": {},
   "outputs": [],
   "source": [
    "# creating a pipeline with RandomForest Regressor\n",
    "RF_pipe = make_pipeline(StandardScaler(), \n",
    "                       RandomForestRegressor(random_state = 47))"
   ]
  },
  {
   "cell_type": "code",
   "execution_count": 99,
   "metadata": {},
   "outputs": [],
   "source": [
    "rf_default_cv_results = cross_validate(RF_pipe, X_train, y_train, cv = 5)"
   ]
  },
  {
   "cell_type": "code",
   "execution_count": 100,
   "metadata": {},
   "outputs": [
    {
     "data": {
      "text/plain": [
       "array([0.14525402, 0.12365155, 0.15301162, 0.07639037, 0.11815611])"
      ]
     },
     "execution_count": 100,
     "metadata": {},
     "output_type": "execute_result"
    }
   ],
   "source": [
    "rf_cv_scores = rf_default_cv_results['test_score']\n",
    "rf_cv_scores"
   ]
  },
  {
   "cell_type": "markdown",
   "metadata": {},
   "source": [
    "Random Forest model has in improved perfomance it appears! "
   ]
  },
  {
   "cell_type": "code",
   "execution_count": 101,
   "metadata": {},
   "outputs": [
    {
     "data": {
      "text/plain": [
       "(0.12329273421204301, 0.026802446395218924)"
      ]
     },
     "execution_count": 101,
     "metadata": {},
     "output_type": "execute_result"
    }
   ],
   "source": [
    "np.mean(rf_cv_scores), np.std(rf_cv_scores)"
   ]
  },
  {
   "cell_type": "markdown",
   "metadata": {},
   "source": [
    "## Hyperparameter tuning for the Random Forest model using Grid Search CV"
   ]
  },
  {
   "cell_type": "markdown",
   "metadata": {},
   "source": [
    "Here we will explore the performance of the Random Forest Model through a different number of trees. "
   ]
  },
  {
   "cell_type": "code",
   "execution_count": 104,
   "metadata": {},
   "outputs": [],
   "source": [
    "# settings up the grid parameters to be passed to the RF pipeline\n",
    "n_est = [int(n) for n in range(100,300,70)]\n",
    "\n",
    "grid_params = {\n",
    "    'randomforestregressor__n_estimators' : n_est\n",
    "    \n",
    "}"
   ]
  },
  {
   "cell_type": "code",
   "execution_count": 105,
   "metadata": {},
   "outputs": [
    {
     "data": {
      "text/plain": [
       "[100, 170, 240]"
      ]
     },
     "execution_count": 105,
     "metadata": {},
     "output_type": "execute_result"
    }
   ],
   "source": [
    "n_est"
   ]
  },
  {
   "cell_type": "code",
   "execution_count": 106,
   "metadata": {},
   "outputs": [],
   "source": [
    "# calling the GridSearch CV method on the RF pipeline created above, with hyparameters as set in previous cell.\n",
    "rf_grid_cv = GridSearchCV(RF_pipe, param_grid = grid_params, cv = 5, n_jobs = -1)"
   ]
  },
  {
   "cell_type": "code",
   "execution_count": 107,
   "metadata": {},
   "outputs": [
    {
     "data": {
      "text/plain": [
       "GridSearchCV(cv=5,\n",
       "             estimator=Pipeline(steps=[('standardscaler', StandardScaler()),\n",
       "                                       ('randomforestregressor',\n",
       "                                        RandomForestRegressor(random_state=47))]),\n",
       "             n_jobs=-1,\n",
       "             param_grid={'randomforestregressor__n_estimators': [100, 170,\n",
       "                                                                 240]})"
      ]
     },
     "execution_count": 107,
     "metadata": {},
     "output_type": "execute_result"
    }
   ],
   "source": [
    "rf_grid_cv.fit(X_train, y_train)"
   ]
  },
  {
   "cell_type": "code",
   "execution_count": 108,
   "metadata": {},
   "outputs": [
    {
     "data": {
      "text/plain": [
       "{'randomforestregressor__n_estimators': 240}"
      ]
     },
     "execution_count": 108,
     "metadata": {},
     "output_type": "execute_result"
    }
   ],
   "source": [
    "rf_grid_cv.best_params_\n"
   ]
  },
  {
   "cell_type": "code",
   "execution_count": 109,
   "metadata": {},
   "outputs": [
    {
     "data": {
      "text/plain": [
       "Pipeline(steps=[('standardscaler', StandardScaler()),\n",
       "                ('randomforestregressor',\n",
       "                 RandomForestRegressor(n_estimators=240, random_state=47))])"
      ]
     },
     "execution_count": 109,
     "metadata": {},
     "output_type": "execute_result"
    }
   ],
   "source": [
    "rf_grid_cv.best_estimator_"
   ]
  },
  {
   "cell_type": "code",
   "execution_count": 110,
   "metadata": {},
   "outputs": [
    {
     "data": {
      "text/plain": [
       "array([0.14699085, 0.13027437, 0.16118252, 0.07903902, 0.12239233])"
      ]
     },
     "execution_count": 110,
     "metadata": {},
     "output_type": "execute_result"
    }
   ],
   "source": [
    "rf_best_cv_results = cross_validate(rf_grid_cv.best_estimator_, X_train, y_train, cv = 5)\n",
    "rf_best_scores = rf_best_cv_results['test_score']\n",
    "rf_best_scores"
   ]
  },
  {
   "cell_type": "code",
   "execution_count": 111,
   "metadata": {},
   "outputs": [
    {
     "data": {
      "text/plain": [
       "(0.12797581913445405, 0.02791245453105127)"
      ]
     },
     "execution_count": 111,
     "metadata": {},
     "output_type": "execute_result"
    }
   ],
   "source": [
    "np.mean(rf_best_scores), np.std(rf_best_scores)"
   ]
  },
  {
   "cell_type": "code",
   "execution_count": 112,
   "metadata": {},
   "outputs": [
    {
     "data": {
      "image/png": "[encoded data removed]",
      "text/plain": [
       "<Figure size 720x360 with 1 Axes>"
      ]
     },
     "metadata": {
      "needs_background": "light"
     },
     "output_type": "display_data"
    }
   ],
   "source": [
    "# plotting the feature importances\n",
    "plt.subplots(figsize = (10, 5))\n",
    "imps = rf_grid_cv.best_estimator_.named_steps.randomforestregressor.feature_importances_\n",
    "rf_feat_imps = pd.Series(imps, index = X_train.columns).sort_values(ascending = False)\n",
    "rf_feat_imps.plot(kind = 'bar')\n",
    "plt.xlabel('Features')\n",
    "plt.ylabel('Importance')\n",
    "plt.title('Best Random forest regressor feature importance');"
   ]
  },
  {
   "cell_type": "markdown",
   "metadata": {},
   "source": [
    "We can see that the top 4 dominant features are \n",
    "\n",
    " - Installer experience\n",
    " - Overall Module Efficiency\n",
    " - kW2\n",
    " - kW\n",
    " \n",
    "The relative importance of two of the features for the Random Forest Model is different from the Linear Regression model namely - Installer experience and Overall Module Efficiency."
   ]
  },
  {
   "cell_type": "markdown",
   "metadata": {},
   "source": [
    "Looking at the cross validation scores above we can conclude that the Random Forest Regressor with n_estoimators  = 240 gives the best performance and we can select that as the best model for this data set."
   ]
  },
  {
   "cell_type": "code",
   "execution_count": null,
   "metadata": {},
   "outputs": [],
   "source": []
  }
 ],
 "metadata": {
  "kernelspec": {
   "display_name": "Python 3",
   "language": "python",
   "name": "python3"
  },
  "language_info": {
   "codemirror_mode": {
    "name": "ipython",
    "version": 3
   },
   "file_extension": ".py",
   "mimetype": "text/x-python",
   "name": "python",
   "nbconvert_exporter": "python",
   "pygments_lexer": "ipython3",
   "version": "3.8.5"
  }
 },
 "nbformat": 4,
 "nbformat_minor": 4
}
